{
 "cells": [
  {
   "cell_type": "markdown",
   "id": "1e50189b",
   "metadata": {},
   "source": [
    "# Vericast Marketing Campaign Performance Data Analysis\n",
    "This notebook will walk through the process of analyzing and evaluating a recent marketing campaign. Full details regarding the campaign can be found in the project README document.\n",
    "\n",
    "## Table of Contents\n",
    "* [Imports and Data Inspection](#Imports-and-Data-Inspection)\n",
    "* [Preprocessing](#Preprocessing)\n",
    "* [Evaluating Campaign Design](#Evaluating-Campaign-Design)\n",
    "    * [Location Attribute](#Location-Attribute)\n",
    "    * [Age Attribute](#Age-Attribute)\n",
    "    * [Gender Attribute](#Gender-Attribute)\n",
    "    * [Summary of Campaign Design Evaluation](#Summary-of-Campaign-Design-Evaluation)\n",
    "* [Evaluating Campaign Execution](#Evaluating-Campaign-Execution)\n",
    "\n",
    "## Imports and Data Inspection"
   ]
  },
  {
   "cell_type": "code",
   "execution_count": 1,
   "id": "dca690f6",
   "metadata": {},
   "outputs": [],
   "source": [
    "import warnings\n",
    "warnings.simplefilter(action='ignore', category=FutureWarning)\n",
    "\n",
    "import json\n",
    "import random\n",
    "\n",
    "import numpy as np\n",
    "import pandas as pd\n",
    "import scipy.stats as scs\n",
    "\n",
    "import matplotlib.pyplot as plt\n",
    "import seaborn as sns"
   ]
  },
  {
   "cell_type": "code",
   "execution_count": 2,
   "id": "cad828cf",
   "metadata": {},
   "outputs": [],
   "source": [
    "bids = pd.read_csv('../data/bid_requests.csv')\n",
    "users = pd.read_csv('../data/user_attributes.csv')"
   ]
  },
  {
   "cell_type": "code",
   "execution_count": 3,
   "id": "89325b3c",
   "metadata": {},
   "outputs": [
    {
     "name": "stdout",
     "output_type": "stream",
     "text": [
      "<class 'pandas.core.frame.DataFrame'>\n",
      "RangeIndex: 600000 entries, 0 to 599999\n",
      "Data columns (total 5 columns):\n",
      " #   Column      Non-Null Count   Dtype \n",
      "---  ------      --------------   ----- \n",
      " 0   timestamp   600000 non-null  object\n",
      " 1   user_id     600000 non-null  object\n",
      " 2   bid         600000 non-null  int64 \n",
      " 3   win         600000 non-null  int64 \n",
      " 4   conversion  600000 non-null  int64 \n",
      "dtypes: int64(3), object(2)\n",
      "memory usage: 22.9+ MB\n"
     ]
    }
   ],
   "source": [
    "bids.info()"
   ]
  },
  {
   "cell_type": "code",
   "execution_count": 4,
   "id": "dbe58b78",
   "metadata": {},
   "outputs": [
    {
     "data": {
      "text/html": [
       "<div>\n",
       "<style scoped>\n",
       "    .dataframe tbody tr th:only-of-type {\n",
       "        vertical-align: middle;\n",
       "    }\n",
       "\n",
       "    .dataframe tbody tr th {\n",
       "        vertical-align: top;\n",
       "    }\n",
       "\n",
       "    .dataframe thead th {\n",
       "        text-align: right;\n",
       "    }\n",
       "</style>\n",
       "<table border=\"1\" class=\"dataframe\">\n",
       "  <thead>\n",
       "    <tr style=\"text-align: right;\">\n",
       "      <th></th>\n",
       "      <th>timestamp</th>\n",
       "      <th>user_id</th>\n",
       "      <th>bid</th>\n",
       "      <th>win</th>\n",
       "      <th>conversion</th>\n",
       "    </tr>\n",
       "  </thead>\n",
       "  <tbody>\n",
       "    <tr>\n",
       "      <th>0</th>\n",
       "      <td>2017-01-01 00:00:01</td>\n",
       "      <td>be7485be5b6eb3690efcbc9e95e8f15a</td>\n",
       "      <td>0</td>\n",
       "      <td>0</td>\n",
       "      <td>0</td>\n",
       "    </tr>\n",
       "    <tr>\n",
       "      <th>1</th>\n",
       "      <td>2017-01-01 00:00:02</td>\n",
       "      <td>26c5dca2512a4c7fe8810bd04191b1b3</td>\n",
       "      <td>0</td>\n",
       "      <td>0</td>\n",
       "      <td>0</td>\n",
       "    </tr>\n",
       "    <tr>\n",
       "      <th>2</th>\n",
       "      <td>2017-01-01 00:00:05</td>\n",
       "      <td>2121376a323507c01c5e92c39ae8ccd4</td>\n",
       "      <td>0</td>\n",
       "      <td>0</td>\n",
       "      <td>0</td>\n",
       "    </tr>\n",
       "    <tr>\n",
       "      <th>3</th>\n",
       "      <td>2017-01-01 00:00:12</td>\n",
       "      <td>fa6a0925d911185338b0acc93c66dc92</td>\n",
       "      <td>0</td>\n",
       "      <td>0</td>\n",
       "      <td>0</td>\n",
       "    </tr>\n",
       "    <tr>\n",
       "      <th>4</th>\n",
       "      <td>2017-01-01 00:00:13</td>\n",
       "      <td>4299f209da83da82b711f1d631cc607b</td>\n",
       "      <td>1</td>\n",
       "      <td>0</td>\n",
       "      <td>0</td>\n",
       "    </tr>\n",
       "  </tbody>\n",
       "</table>\n",
       "</div>"
      ],
      "text/plain": [
       "             timestamp                           user_id  bid  win  conversion\n",
       "0  2017-01-01 00:00:01  be7485be5b6eb3690efcbc9e95e8f15a    0    0           0\n",
       "1  2017-01-01 00:00:02  26c5dca2512a4c7fe8810bd04191b1b3    0    0           0\n",
       "2  2017-01-01 00:00:05  2121376a323507c01c5e92c39ae8ccd4    0    0           0\n",
       "3  2017-01-01 00:00:12  fa6a0925d911185338b0acc93c66dc92    0    0           0\n",
       "4  2017-01-01 00:00:13  4299f209da83da82b711f1d631cc607b    1    0           0"
      ]
     },
     "execution_count": 4,
     "metadata": {},
     "output_type": "execute_result"
    }
   ],
   "source": [
    "bids.head()"
   ]
  },
  {
   "cell_type": "code",
   "execution_count": 5,
   "id": "5899a104",
   "metadata": {},
   "outputs": [
    {
     "data": {
      "text/html": [
       "<div>\n",
       "<style scoped>\n",
       "    .dataframe tbody tr th:only-of-type {\n",
       "        vertical-align: middle;\n",
       "    }\n",
       "\n",
       "    .dataframe tbody tr th {\n",
       "        vertical-align: top;\n",
       "    }\n",
       "\n",
       "    .dataframe thead th {\n",
       "        text-align: right;\n",
       "    }\n",
       "</style>\n",
       "<table border=\"1\" class=\"dataframe\">\n",
       "  <thead>\n",
       "    <tr style=\"text-align: right;\">\n",
       "      <th></th>\n",
       "      <th>user_id</th>\n",
       "      <th>attributes</th>\n",
       "    </tr>\n",
       "  </thead>\n",
       "  <tbody>\n",
       "    <tr>\n",
       "      <th>0</th>\n",
       "      <td>00003e3b9e5336685200ae85d21b4f5e</td>\n",
       "      <td>{\"age\": 33, \"gender\": \"F\", \"location\": \"FL\", \"...</td>\n",
       "    </tr>\n",
       "    <tr>\n",
       "      <th>1</th>\n",
       "      <td>000053b1e684c9e7ea73727b2238ce18</td>\n",
       "      <td>{\"age\": 26, \"gender\": \"M\", \"location\": \"AL\", \"...</td>\n",
       "    </tr>\n",
       "    <tr>\n",
       "      <th>2</th>\n",
       "      <td>00029153d12ae1c9abe59c17ff2e0895</td>\n",
       "      <td>{\"age\": 29, \"gender\": \"F\", \"location\": \"AR\", \"...</td>\n",
       "    </tr>\n",
       "    <tr>\n",
       "      <th>3</th>\n",
       "      <td>0002ac0d783338cfeab0b2bdbd872cda</td>\n",
       "      <td>{\"age\": 29, \"gender\": \"M\", \"location\": \"SC\", \"...</td>\n",
       "    </tr>\n",
       "    <tr>\n",
       "      <th>4</th>\n",
       "      <td>0004d0b59e19461ff126e3a08a814c33</td>\n",
       "      <td>{\"age\": 27, \"gender\": \"F\", \"location\": \"AR\", \"...</td>\n",
       "    </tr>\n",
       "  </tbody>\n",
       "</table>\n",
       "</div>"
      ],
      "text/plain": [
       "                            user_id  \\\n",
       "0  00003e3b9e5336685200ae85d21b4f5e   \n",
       "1  000053b1e684c9e7ea73727b2238ce18   \n",
       "2  00029153d12ae1c9abe59c17ff2e0895   \n",
       "3  0002ac0d783338cfeab0b2bdbd872cda   \n",
       "4  0004d0b59e19461ff126e3a08a814c33   \n",
       "\n",
       "                                          attributes  \n",
       "0  {\"age\": 33, \"gender\": \"F\", \"location\": \"FL\", \"...  \n",
       "1  {\"age\": 26, \"gender\": \"M\", \"location\": \"AL\", \"...  \n",
       "2  {\"age\": 29, \"gender\": \"F\", \"location\": \"AR\", \"...  \n",
       "3  {\"age\": 29, \"gender\": \"M\", \"location\": \"SC\", \"...  \n",
       "4  {\"age\": 27, \"gender\": \"F\", \"location\": \"AR\", \"...  "
      ]
     },
     "execution_count": 5,
     "metadata": {},
     "output_type": "execute_result"
    }
   ],
   "source": [
    "users.head()"
   ]
  },
  {
   "cell_type": "markdown",
   "id": "6e1a68ae",
   "metadata": {},
   "source": [
    "## Preprocessing\n",
    "\n",
    "Noticing that the 'attributes' column on the users dataframe is a text blob of several distinct features, we need to unpack that information and make distinct columns corresponding to those features.\n",
    "\n",
    "I'll start by making a frame and loading that frame with all the attribute information. Then I'll ad the user_id information from the users dataframe and confirm that the information matches the original content."
   ]
  },
  {
   "cell_type": "code",
   "execution_count": 6,
   "id": "69d1c5d8",
   "metadata": {},
   "outputs": [],
   "source": [
    "txt = users.attributes[1]"
   ]
  },
  {
   "cell_type": "code",
   "execution_count": 7,
   "id": "52cd3bb4",
   "metadata": {},
   "outputs": [],
   "source": [
    "dic = json.loads(txt)"
   ]
  },
  {
   "cell_type": "code",
   "execution_count": 8,
   "id": "d28320ce",
   "metadata": {},
   "outputs": [],
   "source": [
    "atts = pd.DataFrame(columns=['age', 'gender', 'location', 'test'])"
   ]
  },
  {
   "cell_type": "markdown",
   "id": "5d5ce149",
   "metadata": {},
   "source": [
    "In the interest of time, I've commented out the next two cells:\n",
    "* the first cell creates a dataframe from the attributes textblob in the users dataframe. That process is extremely slow\n",
    "* in the following cell, I save that attributes dataframe as a csv, so we can just read it in whenever we re-run the notebook\n",
    "\n",
    "Of course, if you have time on your hands, or a GPU, I invite you to uncomment out the next cell and run it at your discretion."
   ]
  },
  {
   "cell_type": "code",
   "execution_count": 9,
   "id": "3795a5eb",
   "metadata": {},
   "outputs": [],
   "source": [
    "# for i in range(len(users.attributes)):\n",
    "#     dic = json.loads(users.attributes[i])\n",
    "    \n",
    "#     for k in dic:\n",
    "#         dic[k] = [dic[k]]\n",
    "        \n",
    "#     df = pd.DataFrame.from_dict(dic)\n",
    "    \n",
    "#     atts = atts.append(df, ignore_index=True)\n",
    "    \n",
    "        "
   ]
  },
  {
   "cell_type": "code",
   "execution_count": 10,
   "id": "42712f51",
   "metadata": {},
   "outputs": [],
   "source": [
    "# atts.to_csv('../data/atts.csv', index=False)"
   ]
  },
  {
   "cell_type": "code",
   "execution_count": 11,
   "id": "57eda569",
   "metadata": {},
   "outputs": [],
   "source": [
    "atts = pd.read_csv('../data/atts.csv')"
   ]
  },
  {
   "cell_type": "code",
   "execution_count": 12,
   "id": "4ede8901",
   "metadata": {},
   "outputs": [
    {
     "name": "stdout",
     "output_type": "stream",
     "text": [
      "<class 'pandas.core.frame.DataFrame'>\n",
      "RangeIndex: 100000 entries, 0 to 99999\n",
      "Data columns (total 4 columns):\n",
      " #   Column    Non-Null Count   Dtype \n",
      "---  ------    --------------   ----- \n",
      " 0   age       100000 non-null  int64 \n",
      " 1   gender    100000 non-null  object\n",
      " 2   location  100000 non-null  object\n",
      " 3   test      100000 non-null  int64 \n",
      "dtypes: int64(2), object(2)\n",
      "memory usage: 3.1+ MB\n"
     ]
    }
   ],
   "source": [
    "atts.info()"
   ]
  },
  {
   "cell_type": "code",
   "execution_count": 13,
   "id": "ca41151b",
   "metadata": {},
   "outputs": [
    {
     "data": {
      "text/plain": [
       "['user_id', 'age', 'gender', 'location', 'test']"
      ]
     },
     "execution_count": 13,
     "metadata": {},
     "output_type": "execute_result"
    }
   ],
   "source": [
    "cols = atts.columns.to_list()\n",
    "cols.insert(0, 'user_id')\n",
    "cols"
   ]
  },
  {
   "cell_type": "code",
   "execution_count": 14,
   "id": "3e19fff8",
   "metadata": {},
   "outputs": [],
   "source": [
    "atts['user_id'] = users['user_id']"
   ]
  },
  {
   "cell_type": "code",
   "execution_count": 15,
   "id": "976c2013",
   "metadata": {},
   "outputs": [],
   "source": [
    "atts = atts[cols]"
   ]
  },
  {
   "cell_type": "code",
   "execution_count": 16,
   "id": "dcae7a94",
   "metadata": {},
   "outputs": [
    {
     "name": "stdout",
     "output_type": "stream",
     "text": [
      "<class 'pandas.core.frame.DataFrame'>\n",
      "RangeIndex: 100000 entries, 0 to 99999\n",
      "Data columns (total 5 columns):\n",
      " #   Column    Non-Null Count   Dtype \n",
      "---  ------    --------------   ----- \n",
      " 0   user_id   100000 non-null  object\n",
      " 1   age       100000 non-null  int64 \n",
      " 2   gender    100000 non-null  object\n",
      " 3   location  100000 non-null  object\n",
      " 4   test      100000 non-null  int64 \n",
      "dtypes: int64(2), object(3)\n",
      "memory usage: 3.8+ MB\n"
     ]
    }
   ],
   "source": [
    "atts.info()"
   ]
  },
  {
   "cell_type": "code",
   "execution_count": 17,
   "id": "cfe90d68",
   "metadata": {},
   "outputs": [
    {
     "data": {
      "text/plain": [
       "True"
      ]
     },
     "execution_count": 17,
     "metadata": {},
     "output_type": "execute_result"
    }
   ],
   "source": [
    "atts.user_id[0] == users.user_id[0]"
   ]
  },
  {
   "cell_type": "code",
   "execution_count": 18,
   "id": "69b8f602",
   "metadata": {},
   "outputs": [
    {
     "data": {
      "text/html": [
       "<div>\n",
       "<style scoped>\n",
       "    .dataframe tbody tr th:only-of-type {\n",
       "        vertical-align: middle;\n",
       "    }\n",
       "\n",
       "    .dataframe tbody tr th {\n",
       "        vertical-align: top;\n",
       "    }\n",
       "\n",
       "    .dataframe thead th {\n",
       "        text-align: right;\n",
       "    }\n",
       "</style>\n",
       "<table border=\"1\" class=\"dataframe\">\n",
       "  <thead>\n",
       "    <tr style=\"text-align: right;\">\n",
       "      <th></th>\n",
       "      <th>user_id</th>\n",
       "      <th>age</th>\n",
       "      <th>gender</th>\n",
       "      <th>location</th>\n",
       "      <th>test</th>\n",
       "    </tr>\n",
       "  </thead>\n",
       "  <tbody>\n",
       "    <tr>\n",
       "      <th>0</th>\n",
       "      <td>00003e3b9e5336685200ae85d21b4f5e</td>\n",
       "      <td>33</td>\n",
       "      <td>F</td>\n",
       "      <td>FL</td>\n",
       "      <td>1</td>\n",
       "    </tr>\n",
       "    <tr>\n",
       "      <th>1</th>\n",
       "      <td>000053b1e684c9e7ea73727b2238ce18</td>\n",
       "      <td>26</td>\n",
       "      <td>M</td>\n",
       "      <td>AL</td>\n",
       "      <td>1</td>\n",
       "    </tr>\n",
       "    <tr>\n",
       "      <th>2</th>\n",
       "      <td>00029153d12ae1c9abe59c17ff2e0895</td>\n",
       "      <td>29</td>\n",
       "      <td>F</td>\n",
       "      <td>AR</td>\n",
       "      <td>1</td>\n",
       "    </tr>\n",
       "    <tr>\n",
       "      <th>3</th>\n",
       "      <td>0002ac0d783338cfeab0b2bdbd872cda</td>\n",
       "      <td>29</td>\n",
       "      <td>M</td>\n",
       "      <td>SC</td>\n",
       "      <td>0</td>\n",
       "    </tr>\n",
       "    <tr>\n",
       "      <th>4</th>\n",
       "      <td>0004d0b59e19461ff126e3a08a814c33</td>\n",
       "      <td>27</td>\n",
       "      <td>F</td>\n",
       "      <td>AR</td>\n",
       "      <td>1</td>\n",
       "    </tr>\n",
       "  </tbody>\n",
       "</table>\n",
       "</div>"
      ],
      "text/plain": [
       "                            user_id  age gender location  test\n",
       "0  00003e3b9e5336685200ae85d21b4f5e   33      F       FL     1\n",
       "1  000053b1e684c9e7ea73727b2238ce18   26      M       AL     1\n",
       "2  00029153d12ae1c9abe59c17ff2e0895   29      F       AR     1\n",
       "3  0002ac0d783338cfeab0b2bdbd872cda   29      M       SC     0\n",
       "4  0004d0b59e19461ff126e3a08a814c33   27      F       AR     1"
      ]
     },
     "execution_count": 18,
     "metadata": {},
     "output_type": "execute_result"
    }
   ],
   "source": [
    "atts.head()"
   ]
  },
  {
   "cell_type": "code",
   "execution_count": 19,
   "id": "fce3436e",
   "metadata": {},
   "outputs": [
    {
     "data": {
      "text/html": [
       "<div>\n",
       "<style scoped>\n",
       "    .dataframe tbody tr th:only-of-type {\n",
       "        vertical-align: middle;\n",
       "    }\n",
       "\n",
       "    .dataframe tbody tr th {\n",
       "        vertical-align: top;\n",
       "    }\n",
       "\n",
       "    .dataframe thead th {\n",
       "        text-align: right;\n",
       "    }\n",
       "</style>\n",
       "<table border=\"1\" class=\"dataframe\">\n",
       "  <thead>\n",
       "    <tr style=\"text-align: right;\">\n",
       "      <th></th>\n",
       "      <th>user_id</th>\n",
       "      <th>attributes</th>\n",
       "    </tr>\n",
       "  </thead>\n",
       "  <tbody>\n",
       "    <tr>\n",
       "      <th>0</th>\n",
       "      <td>00003e3b9e5336685200ae85d21b4f5e</td>\n",
       "      <td>{\"age\": 33, \"gender\": \"F\", \"location\": \"FL\", \"...</td>\n",
       "    </tr>\n",
       "    <tr>\n",
       "      <th>1</th>\n",
       "      <td>000053b1e684c9e7ea73727b2238ce18</td>\n",
       "      <td>{\"age\": 26, \"gender\": \"M\", \"location\": \"AL\", \"...</td>\n",
       "    </tr>\n",
       "    <tr>\n",
       "      <th>2</th>\n",
       "      <td>00029153d12ae1c9abe59c17ff2e0895</td>\n",
       "      <td>{\"age\": 29, \"gender\": \"F\", \"location\": \"AR\", \"...</td>\n",
       "    </tr>\n",
       "    <tr>\n",
       "      <th>3</th>\n",
       "      <td>0002ac0d783338cfeab0b2bdbd872cda</td>\n",
       "      <td>{\"age\": 29, \"gender\": \"M\", \"location\": \"SC\", \"...</td>\n",
       "    </tr>\n",
       "    <tr>\n",
       "      <th>4</th>\n",
       "      <td>0004d0b59e19461ff126e3a08a814c33</td>\n",
       "      <td>{\"age\": 27, \"gender\": \"F\", \"location\": \"AR\", \"...</td>\n",
       "    </tr>\n",
       "  </tbody>\n",
       "</table>\n",
       "</div>"
      ],
      "text/plain": [
       "                            user_id  \\\n",
       "0  00003e3b9e5336685200ae85d21b4f5e   \n",
       "1  000053b1e684c9e7ea73727b2238ce18   \n",
       "2  00029153d12ae1c9abe59c17ff2e0895   \n",
       "3  0002ac0d783338cfeab0b2bdbd872cda   \n",
       "4  0004d0b59e19461ff126e3a08a814c33   \n",
       "\n",
       "                                          attributes  \n",
       "0  {\"age\": 33, \"gender\": \"F\", \"location\": \"FL\", \"...  \n",
       "1  {\"age\": 26, \"gender\": \"M\", \"location\": \"AL\", \"...  \n",
       "2  {\"age\": 29, \"gender\": \"F\", \"location\": \"AR\", \"...  \n",
       "3  {\"age\": 29, \"gender\": \"M\", \"location\": \"SC\", \"...  \n",
       "4  {\"age\": 27, \"gender\": \"F\", \"location\": \"AR\", \"...  "
      ]
     },
     "execution_count": 19,
     "metadata": {},
     "output_type": "execute_result"
    }
   ],
   "source": [
    "users.head()"
   ]
  },
  {
   "cell_type": "markdown",
   "id": "9a94e28a",
   "metadata": {},
   "source": [
    "## Evaluating Campaign Design\n",
    "Ideally, the campaign would expose expose similar groups to the original and new creative content in order to establish that any difference in performance resulted from the creative content of the campaign and not differences in the makeup of the group.\n",
    "\n",
    "This is easier said than done, so we'll begin by establishing how similar the group exposed to the original content--the control group--and the group exposed to the new content--the test group--actually are.\n",
    "\n",
    "To do that we'll split our atts dataframe containing user identifiers and attributes by using the test binary variable."
   ]
  },
  {
   "cell_type": "code",
   "execution_count": 20,
   "id": "435e5997",
   "metadata": {},
   "outputs": [],
   "source": [
    "control = atts[atts['test']==0]\n",
    "test = atts[atts['test']==1]"
   ]
  },
  {
   "cell_type": "code",
   "execution_count": 21,
   "id": "1c1a0440",
   "metadata": {},
   "outputs": [
    {
     "name": "stdout",
     "output_type": "stream",
     "text": [
      "<class 'pandas.core.frame.DataFrame'>\n",
      "Int64Index: 43916 entries, 3 to 99997\n",
      "Data columns (total 5 columns):\n",
      " #   Column    Non-Null Count  Dtype \n",
      "---  ------    --------------  ----- \n",
      " 0   user_id   43916 non-null  object\n",
      " 1   age       43916 non-null  int64 \n",
      " 2   gender    43916 non-null  object\n",
      " 3   location  43916 non-null  object\n",
      " 4   test      43916 non-null  int64 \n",
      "dtypes: int64(2), object(3)\n",
      "memory usage: 2.0+ MB\n"
     ]
    }
   ],
   "source": [
    "control.info()"
   ]
  },
  {
   "cell_type": "code",
   "execution_count": 22,
   "id": "0f76ca05",
   "metadata": {},
   "outputs": [
    {
     "name": "stdout",
     "output_type": "stream",
     "text": [
      "<class 'pandas.core.frame.DataFrame'>\n",
      "Int64Index: 56084 entries, 0 to 99999\n",
      "Data columns (total 5 columns):\n",
      " #   Column    Non-Null Count  Dtype \n",
      "---  ------    --------------  ----- \n",
      " 0   user_id   56084 non-null  object\n",
      " 1   age       56084 non-null  int64 \n",
      " 2   gender    56084 non-null  object\n",
      " 3   location  56084 non-null  object\n",
      " 4   test      56084 non-null  int64 \n",
      "dtypes: int64(2), object(3)\n",
      "memory usage: 2.6+ MB\n"
     ]
    }
   ],
   "source": [
    "test.info()"
   ]
  },
  {
   "cell_type": "markdown",
   "id": "f5fc263b",
   "metadata": {},
   "source": [
    "Now that the control and test groups have been defined, we can compare the two groups on the basis of the demographic attributes found in the data.\n",
    "\n",
    "### Location Attribute"
   ]
  },
  {
   "cell_type": "code",
   "execution_count": 23,
   "id": "0f9606a1",
   "metadata": {},
   "outputs": [],
   "source": [
    "d1 = control.location.value_counts().sort_index().values\n",
    "d2 = test.location.value_counts().sort_index().values\n",
    "\n",
    "dlabels = ['Control', 'Test']\n",
    "labels = list(set(control.location.values))\n",
    "labels.sort()\n",
    "xlabel = 'State'\n",
    "ylabel = 'User Count'\n",
    "\n",
    "x = np.arange(len(labels))\n",
    "width = 0.35\n",
    "xticks = [x, labels]\n",
    "\n",
    "title = 'Control and Test Group User Counts by State'"
   ]
  },
  {
   "cell_type": "code",
   "execution_count": 24,
   "id": "626b8def",
   "metadata": {},
   "outputs": [],
   "source": [
    "def makeGroupedBars(d1, d2, x, dlabels, xticks, xlabel, ylabel, title):\n",
    "    \n",
    "    fig, ax = plt.subplots(figsize=(12, 6))\n",
    "    rects1 = ax.bar(x - width/2, d1, width, label=dlabels[0])\n",
    "    rects2 = ax.bar(x + width/2, d2, width, label=dlabels[1])\n",
    "\n",
    "    ax.set_ylabel(ylabel)\n",
    "    ax.set_title(title)\n",
    "    ax.set_xticks(xticks[0], xticks[1])\n",
    "    ax.set_xlabel(xlabel)\n",
    "    ax.legend()\n",
    "\n",
    "    ax.bar_label(rects1, padding=3)\n",
    "    ax.bar_label(rects2, padding=3)\n",
    "\n",
    "    fig.tight_layout()\n",
    "\n",
    "    plt.savefig(f'../images/{title.replace(\" \", \"_\")}.png')\n",
    "\n",
    "    plt.show()"
   ]
  },
  {
   "cell_type": "code",
   "execution_count": 25,
   "id": "51c82f72",
   "metadata": {},
   "outputs": [
    {
     "data": {
      "image/png": "[encoded data removed]",
      "text/plain": [
       "<Figure size 864x432 with 1 Axes>"
      ]
     },
     "metadata": {
      "needs_background": "light"
     },
     "output_type": "display_data"
    }
   ],
   "source": [
    "makeGroupedBars(d1, d2, x, dlabels, xticks, xlabel, ylabel, title)"
   ]
  },
  {
   "cell_type": "markdown",
   "id": "b9205f61",
   "metadata": {},
   "source": [
    "Comparing the control and test groups on the basis of the location attribute, we see that the control group is usually slightly larger, except for four cases\n",
    "* Alabama\n",
    "* Mississippi\n",
    "* North Carolina\n",
    "* Tennessee\n",
    "\n",
    "In these states the test group is not only larger than the control, but nearly triples the size of the control group.\n",
    "\n",
    "Since these are also generally smaller populations within the control group, this oversampling could cause differences that impact our ability to evaluate the performance of the campaign.\n",
    "\n",
    "### Age Attribute"
   ]
  },
  {
   "cell_type": "code",
   "execution_count": 26,
   "id": "d638783c",
   "metadata": {},
   "outputs": [
    {
     "data": {
      "image/png": "[encoded data removed]",
      "text/plain": [
       "<Figure size 864x432 with 1 Axes>"
      ]
     },
     "metadata": {
      "needs_background": "light"
     },
     "output_type": "display_data"
    }
   ],
   "source": [
    "fig = plt.figure(figsize=(12,6))\n",
    "plt.boxplot ([control.age, test.age], labels=['Control', 'Test'])\n",
    "plt.axhline(y=control.age.quantile(0.25), color='r', linestyle='--')\n",
    "fig.suptitle('Age Range for Control and Test Groups', fontsize=14)\n",
    "plt.show()"
   ]
  },
  {
   "cell_type": "markdown",
   "id": "a1bcd645",
   "metadata": {},
   "source": [
    "With respect to age, we see the test group has a slightly larger range of ages represented in its interquartile range (IQR), but otherwise the groups are similar:\n",
    "* IQR:\n",
    "    * Control 22-29\n",
    "    * Test 21-29\n",
    "* Median: 25\n",
    "* Range: 18-33\n",
    "\n",
    "There is little reason to suspect age would impact campaign performance.\n",
    "\n",
    "### Gender Attribute"
   ]
  },
  {
   "cell_type": "code",
   "execution_count": 27,
   "id": "4100e1c1",
   "metadata": {},
   "outputs": [
    {
     "data": {
      "text/plain": [
       "M    22101\n",
       "F    21815\n",
       "Name: gender, dtype: int64"
      ]
     },
     "execution_count": 27,
     "metadata": {},
     "output_type": "execute_result"
    }
   ],
   "source": [
    "control.gender.value_counts()"
   ]
  },
  {
   "cell_type": "code",
   "execution_count": 28,
   "id": "d382a236",
   "metadata": {},
   "outputs": [
    {
     "data": {
      "text/plain": [
       "F    28108\n",
       "M    27976\n",
       "Name: gender, dtype: int64"
      ]
     },
     "execution_count": 28,
     "metadata": {},
     "output_type": "execute_result"
    }
   ],
   "source": [
    "test.gender.value_counts()"
   ]
  },
  {
   "cell_type": "code",
   "execution_count": 29,
   "id": "313b0677",
   "metadata": {},
   "outputs": [],
   "source": [
    "gen_df = pd.DataFrame([control.gender.value_counts(), test.gender.value_counts()], index=['control', 'test'])"
   ]
  },
  {
   "cell_type": "code",
   "execution_count": 30,
   "id": "3c814352",
   "metadata": {},
   "outputs": [],
   "source": [
    "d1 = gen_df.M.values\n",
    "d2 = gen_df.F.values\n",
    "\n",
    "dlabels = ['Female', 'Male']\n",
    "labels = ['Control', 'Test']\n",
    "labels.sort()\n",
    "xlabel = None\n",
    "ylabel = 'User Count'\n",
    "\n",
    "x = np.arange(len(labels))\n",
    "width = 0.35\n",
    "xticks = [x, labels]\n",
    "\n",
    "title = 'Control and Test Group User Counts by Gender'"
   ]
  },
  {
   "cell_type": "code",
   "execution_count": 31,
   "id": "59b912a0",
   "metadata": {},
   "outputs": [
    {
     "data": {
      "image/png": "[encoded data removed]",
      "text/plain": [
       "<Figure size 864x432 with 1 Axes>"
      ]
     },
     "metadata": {
      "needs_background": "light"
     },
     "output_type": "display_data"
    }
   ],
   "source": [
    "makeGroupedBars(d1, d2, x, dlabels, xticks, xlabel, ylabel, title)"
   ]
  },
  {
   "cell_type": "markdown",
   "id": "0d2040fb",
   "metadata": {},
   "source": [
    "With gender as with age, we see slight differences between the control and test groups\n",
    "* the control group favors women slightly\n",
    "* the test group favors men slightly\n",
    "\n",
    "Overall, the gender parity between the groups is similar and there is no reason to suspect that gender imbalance between control and test groups would impact campaign performance.\n",
    "\n",
    "### Summary of Campaign Design Evaluation\n",
    "\n",
    "With respect to the three attributes of location, age and gender the control and test groups are very similar with the exception of some of the location distributions\n",
    "* four states appear to be heavily oversampled\n",
    "* generally the control group is larger than the test group\n",
    "    * the control group is favored slightly with age and gender attributes\n",
    "    * the test group is favored heavily in 4 of 11 locations\n",
    "    * the control group is favored slightly in 7 of 11 locations\n",
    "* As a result of the oversampling in those locations, the test group is larger than the control group\n",
    "\n",
    "## Evaluating Campaign Execution\n",
    "As we have seen, some oversampling in a few locations has created a test set that potentially exaggerates the preferences of users from these locations, but do we see any evidence of this preference at the level of campaign execution?\n",
    "\n",
    "In other words, when requests are made on the exchange, do the differences in the control and test groups translate to differences in the rates at which requests lead to bids, bids lead to wins, or wins lead to conversions?"
   ]
  },
  {
   "cell_type": "code",
   "execution_count": 32,
   "id": "1b4599d2",
   "metadata": {},
   "outputs": [
    {
     "data": {
      "text/html": [
       "<div>\n",
       "<style scoped>\n",
       "    .dataframe tbody tr th:only-of-type {\n",
       "        vertical-align: middle;\n",
       "    }\n",
       "\n",
       "    .dataframe tbody tr th {\n",
       "        vertical-align: top;\n",
       "    }\n",
       "\n",
       "    .dataframe thead th {\n",
       "        text-align: right;\n",
       "    }\n",
       "</style>\n",
       "<table border=\"1\" class=\"dataframe\">\n",
       "  <thead>\n",
       "    <tr style=\"text-align: right;\">\n",
       "      <th></th>\n",
       "      <th>timestamp</th>\n",
       "      <th>user_id</th>\n",
       "      <th>bid</th>\n",
       "      <th>win</th>\n",
       "      <th>conversion</th>\n",
       "    </tr>\n",
       "  </thead>\n",
       "  <tbody>\n",
       "    <tr>\n",
       "      <th>0</th>\n",
       "      <td>2017-01-01 00:00:01</td>\n",
       "      <td>be7485be5b6eb3690efcbc9e95e8f15a</td>\n",
       "      <td>0</td>\n",
       "      <td>0</td>\n",
       "      <td>0</td>\n",
       "    </tr>\n",
       "    <tr>\n",
       "      <th>1</th>\n",
       "      <td>2017-01-01 00:00:02</td>\n",
       "      <td>26c5dca2512a4c7fe8810bd04191b1b3</td>\n",
       "      <td>0</td>\n",
       "      <td>0</td>\n",
       "      <td>0</td>\n",
       "    </tr>\n",
       "    <tr>\n",
       "      <th>2</th>\n",
       "      <td>2017-01-01 00:00:05</td>\n",
       "      <td>2121376a323507c01c5e92c39ae8ccd4</td>\n",
       "      <td>0</td>\n",
       "      <td>0</td>\n",
       "      <td>0</td>\n",
       "    </tr>\n",
       "    <tr>\n",
       "      <th>3</th>\n",
       "      <td>2017-01-01 00:00:12</td>\n",
       "      <td>fa6a0925d911185338b0acc93c66dc92</td>\n",
       "      <td>0</td>\n",
       "      <td>0</td>\n",
       "      <td>0</td>\n",
       "    </tr>\n",
       "    <tr>\n",
       "      <th>4</th>\n",
       "      <td>2017-01-01 00:00:13</td>\n",
       "      <td>4299f209da83da82b711f1d631cc607b</td>\n",
       "      <td>1</td>\n",
       "      <td>0</td>\n",
       "      <td>0</td>\n",
       "    </tr>\n",
       "  </tbody>\n",
       "</table>\n",
       "</div>"
      ],
      "text/plain": [
       "             timestamp                           user_id  bid  win  conversion\n",
       "0  2017-01-01 00:00:01  be7485be5b6eb3690efcbc9e95e8f15a    0    0           0\n",
       "1  2017-01-01 00:00:02  26c5dca2512a4c7fe8810bd04191b1b3    0    0           0\n",
       "2  2017-01-01 00:00:05  2121376a323507c01c5e92c39ae8ccd4    0    0           0\n",
       "3  2017-01-01 00:00:12  fa6a0925d911185338b0acc93c66dc92    0    0           0\n",
       "4  2017-01-01 00:00:13  4299f209da83da82b711f1d631cc607b    1    0           0"
      ]
     },
     "execution_count": 32,
     "metadata": {},
     "output_type": "execute_result"
    }
   ],
   "source": [
    "bids.head()"
   ]
  },
  {
   "cell_type": "code",
   "execution_count": 33,
   "id": "280e876c",
   "metadata": {},
   "outputs": [
    {
     "data": {
      "text/html": [
       "<div>\n",
       "<style scoped>\n",
       "    .dataframe tbody tr th:only-of-type {\n",
       "        vertical-align: middle;\n",
       "    }\n",
       "\n",
       "    .dataframe tbody tr th {\n",
       "        vertical-align: top;\n",
       "    }\n",
       "\n",
       "    .dataframe thead th {\n",
       "        text-align: right;\n",
       "    }\n",
       "</style>\n",
       "<table border=\"1\" class=\"dataframe\">\n",
       "  <thead>\n",
       "    <tr style=\"text-align: right;\">\n",
       "      <th></th>\n",
       "      <th>user_id</th>\n",
       "      <th>age</th>\n",
       "      <th>gender</th>\n",
       "      <th>location</th>\n",
       "      <th>test</th>\n",
       "    </tr>\n",
       "  </thead>\n",
       "  <tbody>\n",
       "    <tr>\n",
       "      <th>0</th>\n",
       "      <td>00003e3b9e5336685200ae85d21b4f5e</td>\n",
       "      <td>33</td>\n",
       "      <td>F</td>\n",
       "      <td>FL</td>\n",
       "      <td>1</td>\n",
       "    </tr>\n",
       "    <tr>\n",
       "      <th>1</th>\n",
       "      <td>000053b1e684c9e7ea73727b2238ce18</td>\n",
       "      <td>26</td>\n",
       "      <td>M</td>\n",
       "      <td>AL</td>\n",
       "      <td>1</td>\n",
       "    </tr>\n",
       "    <tr>\n",
       "      <th>2</th>\n",
       "      <td>00029153d12ae1c9abe59c17ff2e0895</td>\n",
       "      <td>29</td>\n",
       "      <td>F</td>\n",
       "      <td>AR</td>\n",
       "      <td>1</td>\n",
       "    </tr>\n",
       "    <tr>\n",
       "      <th>3</th>\n",
       "      <td>0002ac0d783338cfeab0b2bdbd872cda</td>\n",
       "      <td>29</td>\n",
       "      <td>M</td>\n",
       "      <td>SC</td>\n",
       "      <td>0</td>\n",
       "    </tr>\n",
       "    <tr>\n",
       "      <th>4</th>\n",
       "      <td>0004d0b59e19461ff126e3a08a814c33</td>\n",
       "      <td>27</td>\n",
       "      <td>F</td>\n",
       "      <td>AR</td>\n",
       "      <td>1</td>\n",
       "    </tr>\n",
       "  </tbody>\n",
       "</table>\n",
       "</div>"
      ],
      "text/plain": [
       "                            user_id  age gender location  test\n",
       "0  00003e3b9e5336685200ae85d21b4f5e   33      F       FL     1\n",
       "1  000053b1e684c9e7ea73727b2238ce18   26      M       AL     1\n",
       "2  00029153d12ae1c9abe59c17ff2e0895   29      F       AR     1\n",
       "3  0002ac0d783338cfeab0b2bdbd872cda   29      M       SC     0\n",
       "4  0004d0b59e19461ff126e3a08a814c33   27      F       AR     1"
      ]
     },
     "execution_count": 33,
     "metadata": {},
     "output_type": "execute_result"
    }
   ],
   "source": [
    "atts.head()"
   ]
  },
  {
   "cell_type": "code",
   "execution_count": 34,
   "id": "bd9177ed",
   "metadata": {},
   "outputs": [
    {
     "name": "stdout",
     "output_type": "stream",
     "text": [
      "<class 'pandas.core.frame.DataFrame'>\n",
      "RangeIndex: 600000 entries, 0 to 599999\n",
      "Data columns (total 9 columns):\n",
      " #   Column      Non-Null Count   Dtype \n",
      "---  ------      --------------   ----- \n",
      " 0   timestamp   600000 non-null  object\n",
      " 1   user_id     600000 non-null  object\n",
      " 2   bid         600000 non-null  int64 \n",
      " 3   win         600000 non-null  int64 \n",
      " 4   conversion  600000 non-null  int64 \n",
      " 5   age         600000 non-null  int64 \n",
      " 6   gender      600000 non-null  object\n",
      " 7   location    600000 non-null  object\n",
      " 8   test        600000 non-null  int64 \n",
      "dtypes: int64(5), object(4)\n",
      "memory usage: 41.2+ MB\n"
     ]
    }
   ],
   "source": [
    "full = bids.join(atts.set_index('user_id'), on='user_id')\n",
    "full.info()"
   ]
  },
  {
   "cell_type": "code",
   "execution_count": 35,
   "id": "5a6ca46f",
   "metadata": {},
   "outputs": [
    {
     "data": {
      "text/plain": [
       "count     299841\n",
       "unique        11\n",
       "top           TN\n",
       "freq       27741\n",
       "Name: location, dtype: object"
      ]
     },
     "execution_count": 35,
     "metadata": {},
     "output_type": "execute_result"
    }
   ],
   "source": [
    "full[full['bid']==1].location.describe()"
   ]
  },
  {
   "cell_type": "code",
   "execution_count": 36,
   "id": "b3b71fa6",
   "metadata": {},
   "outputs": [
    {
     "data": {
      "text/plain": [
       "count     150159\n",
       "unique        11\n",
       "top           KY\n",
       "freq       13856\n",
       "Name: location, dtype: object"
      ]
     },
     "execution_count": 36,
     "metadata": {},
     "output_type": "execute_result"
    }
   ],
   "source": [
    "full[full['win']==1].location.describe()"
   ]
  },
  {
   "cell_type": "code",
   "execution_count": 37,
   "id": "91e1470f",
   "metadata": {},
   "outputs": [
    {
     "data": {
      "text/plain": [
       "count     6115\n",
       "unique      11\n",
       "top         LA\n",
       "freq       830\n",
       "Name: location, dtype: object"
      ]
     },
     "execution_count": 37,
     "metadata": {},
     "output_type": "execute_result"
    }
   ],
   "source": [
    "full[full['conversion']==1].location.describe()"
   ]
  },
  {
   "cell_type": "code",
   "execution_count": 38,
   "id": "d49106eb",
   "metadata": {
    "scrolled": true
   },
   "outputs": [
    {
     "name": "stdout",
     "output_type": "stream",
     "text": [
      "<class 'pandas.core.frame.DataFrame'>\n",
      "Int64Index: 262107 entries, 1 to 599995\n",
      "Data columns (total 9 columns):\n",
      " #   Column      Non-Null Count   Dtype \n",
      "---  ------      --------------   ----- \n",
      " 0   timestamp   262107 non-null  object\n",
      " 1   user_id     262107 non-null  object\n",
      " 2   bid         262107 non-null  int64 \n",
      " 3   win         262107 non-null  int64 \n",
      " 4   conversion  262107 non-null  int64 \n",
      " 5   age         262107 non-null  int64 \n",
      " 6   gender      262107 non-null  object\n",
      " 7   location    262107 non-null  object\n",
      " 8   test        262107 non-null  int64 \n",
      "dtypes: int64(5), object(4)\n",
      "memory usage: 20.0+ MB\n"
     ]
    }
   ],
   "source": [
    "control_df = full[full['user_id'].isin(control.user_id.values)]\n",
    "control_df.info()"
   ]
  },
  {
   "cell_type": "code",
   "execution_count": 39,
   "id": "31d74485",
   "metadata": {},
   "outputs": [
    {
     "data": {
      "text/plain": [
       "0.010388886981271007"
      ]
     },
     "execution_count": 39,
     "metadata": {},
     "output_type": "execute_result"
    }
   ],
   "source": [
    "control_df.conversion.mean()"
   ]
  },
  {
   "cell_type": "code",
   "execution_count": 40,
   "id": "8ed0d476",
   "metadata": {},
   "outputs": [
    {
     "name": "stdout",
     "output_type": "stream",
     "text": [
      "<class 'pandas.core.frame.DataFrame'>\n",
      "Int64Index: 337893 entries, 0 to 599999\n",
      "Data columns (total 9 columns):\n",
      " #   Column      Non-Null Count   Dtype \n",
      "---  ------      --------------   ----- \n",
      " 0   timestamp   337893 non-null  object\n",
      " 1   user_id     337893 non-null  object\n",
      " 2   bid         337893 non-null  int64 \n",
      " 3   win         337893 non-null  int64 \n",
      " 4   conversion  337893 non-null  int64 \n",
      " 5   age         337893 non-null  int64 \n",
      " 6   gender      337893 non-null  object\n",
      " 7   location    337893 non-null  object\n",
      " 8   test        337893 non-null  int64 \n",
      "dtypes: int64(5), object(4)\n",
      "memory usage: 25.8+ MB\n"
     ]
    }
   ],
   "source": [
    "test_df = full[full['user_id'].isin(test.user_id.values)]\n",
    "test_df.info()"
   ]
  },
  {
   "cell_type": "code",
   "execution_count": 41,
   "id": "c14bcf01",
   "metadata": {},
   "outputs": [
    {
     "data": {
      "text/plain": [
       "0.01003868088418523"
      ]
     },
     "execution_count": 41,
     "metadata": {},
     "output_type": "execute_result"
    }
   ],
   "source": [
    "test_df.conversion.mean()"
   ]
  },
  {
   "cell_type": "code",
   "execution_count": 42,
   "id": "5ec78c5d",
   "metadata": {},
   "outputs": [
    {
     "data": {
      "text/html": [
       "<div>\n",
       "<style scoped>\n",
       "    .dataframe tbody tr th:only-of-type {\n",
       "        vertical-align: middle;\n",
       "    }\n",
       "\n",
       "    .dataframe tbody tr th {\n",
       "        vertical-align: top;\n",
       "    }\n",
       "\n",
       "    .dataframe thead th {\n",
       "        text-align: right;\n",
       "    }\n",
       "</style>\n",
       "<table border=\"1\" class=\"dataframe\">\n",
       "  <thead>\n",
       "    <tr style=\"text-align: right;\">\n",
       "      <th></th>\n",
       "      <th>bid</th>\n",
       "      <th>win</th>\n",
       "      <th>conversion</th>\n",
       "      <th>test</th>\n",
       "    </tr>\n",
       "    <tr>\n",
       "      <th>age</th>\n",
       "      <th></th>\n",
       "      <th></th>\n",
       "      <th></th>\n",
       "      <th></th>\n",
       "    </tr>\n",
       "  </thead>\n",
       "  <tbody>\n",
       "    <tr>\n",
       "      <th>18</th>\n",
       "      <td>0.501160</td>\n",
       "      <td>0.253841</td>\n",
       "      <td>0.010911</td>\n",
       "      <td>0.0</td>\n",
       "    </tr>\n",
       "    <tr>\n",
       "      <th>19</th>\n",
       "      <td>0.498964</td>\n",
       "      <td>0.247065</td>\n",
       "      <td>0.010109</td>\n",
       "      <td>0.0</td>\n",
       "    </tr>\n",
       "    <tr>\n",
       "      <th>20</th>\n",
       "      <td>0.501682</td>\n",
       "      <td>0.253053</td>\n",
       "      <td>0.009783</td>\n",
       "      <td>0.0</td>\n",
       "    </tr>\n",
       "    <tr>\n",
       "      <th>21</th>\n",
       "      <td>0.502415</td>\n",
       "      <td>0.245914</td>\n",
       "      <td>0.009968</td>\n",
       "      <td>0.0</td>\n",
       "    </tr>\n",
       "    <tr>\n",
       "      <th>22</th>\n",
       "      <td>0.504841</td>\n",
       "      <td>0.252802</td>\n",
       "      <td>0.011208</td>\n",
       "      <td>0.0</td>\n",
       "    </tr>\n",
       "    <tr>\n",
       "      <th>23</th>\n",
       "      <td>0.500122</td>\n",
       "      <td>0.248960</td>\n",
       "      <td>0.009976</td>\n",
       "      <td>0.0</td>\n",
       "    </tr>\n",
       "    <tr>\n",
       "      <th>24</th>\n",
       "      <td>0.500181</td>\n",
       "      <td>0.252023</td>\n",
       "      <td>0.010506</td>\n",
       "      <td>0.0</td>\n",
       "    </tr>\n",
       "    <tr>\n",
       "      <th>25</th>\n",
       "      <td>0.502329</td>\n",
       "      <td>0.256899</td>\n",
       "      <td>0.009676</td>\n",
       "      <td>0.0</td>\n",
       "    </tr>\n",
       "    <tr>\n",
       "      <th>26</th>\n",
       "      <td>0.499413</td>\n",
       "      <td>0.245042</td>\n",
       "      <td>0.010751</td>\n",
       "      <td>0.0</td>\n",
       "    </tr>\n",
       "    <tr>\n",
       "      <th>27</th>\n",
       "      <td>0.503104</td>\n",
       "      <td>0.254861</td>\n",
       "      <td>0.011537</td>\n",
       "      <td>0.0</td>\n",
       "    </tr>\n",
       "    <tr>\n",
       "      <th>28</th>\n",
       "      <td>0.502395</td>\n",
       "      <td>0.245103</td>\n",
       "      <td>0.011643</td>\n",
       "      <td>0.0</td>\n",
       "    </tr>\n",
       "    <tr>\n",
       "      <th>29</th>\n",
       "      <td>0.491994</td>\n",
       "      <td>0.246450</td>\n",
       "      <td>0.009909</td>\n",
       "      <td>0.0</td>\n",
       "    </tr>\n",
       "    <tr>\n",
       "      <th>30</th>\n",
       "      <td>0.494304</td>\n",
       "      <td>0.249186</td>\n",
       "      <td>0.009952</td>\n",
       "      <td>0.0</td>\n",
       "    </tr>\n",
       "    <tr>\n",
       "      <th>31</th>\n",
       "      <td>0.504085</td>\n",
       "      <td>0.253541</td>\n",
       "      <td>0.010932</td>\n",
       "      <td>0.0</td>\n",
       "    </tr>\n",
       "    <tr>\n",
       "      <th>32</th>\n",
       "      <td>0.496728</td>\n",
       "      <td>0.251796</td>\n",
       "      <td>0.009238</td>\n",
       "      <td>0.0</td>\n",
       "    </tr>\n",
       "    <tr>\n",
       "      <th>33</th>\n",
       "      <td>0.492044</td>\n",
       "      <td>0.245233</td>\n",
       "      <td>0.009960</td>\n",
       "      <td>0.0</td>\n",
       "    </tr>\n",
       "  </tbody>\n",
       "</table>\n",
       "</div>"
      ],
      "text/plain": [
       "          bid       win  conversion  test\n",
       "age                                      \n",
       "18   0.501160  0.253841    0.010911   0.0\n",
       "19   0.498964  0.247065    0.010109   0.0\n",
       "20   0.501682  0.253053    0.009783   0.0\n",
       "21   0.502415  0.245914    0.009968   0.0\n",
       "22   0.504841  0.252802    0.011208   0.0\n",
       "23   0.500122  0.248960    0.009976   0.0\n",
       "24   0.500181  0.252023    0.010506   0.0\n",
       "25   0.502329  0.256899    0.009676   0.0\n",
       "26   0.499413  0.245042    0.010751   0.0\n",
       "27   0.503104  0.254861    0.011537   0.0\n",
       "28   0.502395  0.245103    0.011643   0.0\n",
       "29   0.491994  0.246450    0.009909   0.0\n",
       "30   0.494304  0.249186    0.009952   0.0\n",
       "31   0.504085  0.253541    0.010932   0.0\n",
       "32   0.496728  0.251796    0.009238   0.0\n",
       "33   0.492044  0.245233    0.009960   0.0"
      ]
     },
     "execution_count": 42,
     "metadata": {},
     "output_type": "execute_result"
    }
   ],
   "source": [
    "control_df.groupby('age').mean()"
   ]
  },
  {
   "cell_type": "code",
   "execution_count": 43,
   "id": "7143388d",
   "metadata": {},
   "outputs": [
    {
     "data": {
      "text/plain": [
       "0.010378583231424338"
      ]
     },
     "execution_count": 43,
     "metadata": {},
     "output_type": "execute_result"
    }
   ],
   "source": [
    "control_df.groupby('age').mean().conversion.mean()"
   ]
  },
  {
   "cell_type": "code",
   "execution_count": 44,
   "id": "90e931bf",
   "metadata": {},
   "outputs": [
    {
     "data": {
      "text/html": [
       "<div>\n",
       "<style scoped>\n",
       "    .dataframe tbody tr th:only-of-type {\n",
       "        vertical-align: middle;\n",
       "    }\n",
       "\n",
       "    .dataframe tbody tr th {\n",
       "        vertical-align: top;\n",
       "    }\n",
       "\n",
       "    .dataframe thead th {\n",
       "        text-align: right;\n",
       "    }\n",
       "</style>\n",
       "<table border=\"1\" class=\"dataframe\">\n",
       "  <thead>\n",
       "    <tr style=\"text-align: right;\">\n",
       "      <th></th>\n",
       "      <th>bid</th>\n",
       "      <th>win</th>\n",
       "      <th>conversion</th>\n",
       "      <th>test</th>\n",
       "    </tr>\n",
       "    <tr>\n",
       "      <th>age</th>\n",
       "      <th></th>\n",
       "      <th></th>\n",
       "      <th></th>\n",
       "      <th></th>\n",
       "    </tr>\n",
       "  </thead>\n",
       "  <tbody>\n",
       "    <tr>\n",
       "      <th>18</th>\n",
       "      <td>0.504864</td>\n",
       "      <td>0.251308</td>\n",
       "      <td>0.011683</td>\n",
       "      <td>1.0</td>\n",
       "    </tr>\n",
       "    <tr>\n",
       "      <th>19</th>\n",
       "      <td>0.496131</td>\n",
       "      <td>0.249355</td>\n",
       "      <td>0.009567</td>\n",
       "      <td>1.0</td>\n",
       "    </tr>\n",
       "    <tr>\n",
       "      <th>20</th>\n",
       "      <td>0.498618</td>\n",
       "      <td>0.247765</td>\n",
       "      <td>0.010322</td>\n",
       "      <td>1.0</td>\n",
       "    </tr>\n",
       "    <tr>\n",
       "      <th>21</th>\n",
       "      <td>0.501491</td>\n",
       "      <td>0.246019</td>\n",
       "      <td>0.010142</td>\n",
       "      <td>1.0</td>\n",
       "    </tr>\n",
       "    <tr>\n",
       "      <th>22</th>\n",
       "      <td>0.500172</td>\n",
       "      <td>0.250282</td>\n",
       "      <td>0.009913</td>\n",
       "      <td>1.0</td>\n",
       "    </tr>\n",
       "    <tr>\n",
       "      <th>23</th>\n",
       "      <td>0.499562</td>\n",
       "      <td>0.252249</td>\n",
       "      <td>0.010797</td>\n",
       "      <td>1.0</td>\n",
       "    </tr>\n",
       "    <tr>\n",
       "      <th>24</th>\n",
       "      <td>0.500817</td>\n",
       "      <td>0.254135</td>\n",
       "      <td>0.010337</td>\n",
       "      <td>1.0</td>\n",
       "    </tr>\n",
       "    <tr>\n",
       "      <th>25</th>\n",
       "      <td>0.501158</td>\n",
       "      <td>0.248357</td>\n",
       "      <td>0.010165</td>\n",
       "      <td>1.0</td>\n",
       "    </tr>\n",
       "    <tr>\n",
       "      <th>26</th>\n",
       "      <td>0.501346</td>\n",
       "      <td>0.252576</td>\n",
       "      <td>0.009145</td>\n",
       "      <td>1.0</td>\n",
       "    </tr>\n",
       "    <tr>\n",
       "      <th>27</th>\n",
       "      <td>0.502609</td>\n",
       "      <td>0.252924</td>\n",
       "      <td>0.010003</td>\n",
       "      <td>1.0</td>\n",
       "    </tr>\n",
       "    <tr>\n",
       "      <th>28</th>\n",
       "      <td>0.498658</td>\n",
       "      <td>0.254506</td>\n",
       "      <td>0.009540</td>\n",
       "      <td>1.0</td>\n",
       "    </tr>\n",
       "    <tr>\n",
       "      <th>29</th>\n",
       "      <td>0.498866</td>\n",
       "      <td>0.247864</td>\n",
       "      <td>0.010281</td>\n",
       "      <td>1.0</td>\n",
       "    </tr>\n",
       "    <tr>\n",
       "      <th>30</th>\n",
       "      <td>0.498186</td>\n",
       "      <td>0.253121</td>\n",
       "      <td>0.009705</td>\n",
       "      <td>1.0</td>\n",
       "    </tr>\n",
       "    <tr>\n",
       "      <th>31</th>\n",
       "      <td>0.497172</td>\n",
       "      <td>0.248351</td>\n",
       "      <td>0.010226</td>\n",
       "      <td>1.0</td>\n",
       "    </tr>\n",
       "    <tr>\n",
       "      <th>32</th>\n",
       "      <td>0.495202</td>\n",
       "      <td>0.246546</td>\n",
       "      <td>0.008827</td>\n",
       "      <td>1.0</td>\n",
       "    </tr>\n",
       "    <tr>\n",
       "      <th>33</th>\n",
       "      <td>0.500535</td>\n",
       "      <td>0.250616</td>\n",
       "      <td>0.009993</td>\n",
       "      <td>1.0</td>\n",
       "    </tr>\n",
       "  </tbody>\n",
       "</table>\n",
       "</div>"
      ],
      "text/plain": [
       "          bid       win  conversion  test\n",
       "age                                      \n",
       "18   0.504864  0.251308    0.011683   1.0\n",
       "19   0.496131  0.249355    0.009567   1.0\n",
       "20   0.498618  0.247765    0.010322   1.0\n",
       "21   0.501491  0.246019    0.010142   1.0\n",
       "22   0.500172  0.250282    0.009913   1.0\n",
       "23   0.499562  0.252249    0.010797   1.0\n",
       "24   0.500817  0.254135    0.010337   1.0\n",
       "25   0.501158  0.248357    0.010165   1.0\n",
       "26   0.501346  0.252576    0.009145   1.0\n",
       "27   0.502609  0.252924    0.010003   1.0\n",
       "28   0.498658  0.254506    0.009540   1.0\n",
       "29   0.498866  0.247864    0.010281   1.0\n",
       "30   0.498186  0.253121    0.009705   1.0\n",
       "31   0.497172  0.248351    0.010226   1.0\n",
       "32   0.495202  0.246546    0.008827   1.0\n",
       "33   0.500535  0.250616    0.009993   1.0"
      ]
     },
     "execution_count": 44,
     "metadata": {},
     "output_type": "execute_result"
    }
   ],
   "source": [
    "test_df.groupby('age').mean()"
   ]
  },
  {
   "cell_type": "code",
   "execution_count": 45,
   "id": "1282685d",
   "metadata": {},
   "outputs": [
    {
     "data": {
      "text/plain": [
       "0.010040343067297584"
      ]
     },
     "execution_count": 45,
     "metadata": {},
     "output_type": "execute_result"
    }
   ],
   "source": [
    "test_df.groupby('age').mean().conversion.mean()"
   ]
  },
  {
   "cell_type": "code",
   "execution_count": 46,
   "id": "e7bb9ee2",
   "metadata": {},
   "outputs": [
    {
     "data": {
      "text/html": [
       "<div>\n",
       "<style scoped>\n",
       "    .dataframe tbody tr th:only-of-type {\n",
       "        vertical-align: middle;\n",
       "    }\n",
       "\n",
       "    .dataframe tbody tr th {\n",
       "        vertical-align: top;\n",
       "    }\n",
       "\n",
       "    .dataframe thead th {\n",
       "        text-align: right;\n",
       "    }\n",
       "</style>\n",
       "<table border=\"1\" class=\"dataframe\">\n",
       "  <thead>\n",
       "    <tr style=\"text-align: right;\">\n",
       "      <th></th>\n",
       "      <th>bid</th>\n",
       "      <th>win</th>\n",
       "      <th>conversion</th>\n",
       "      <th>age</th>\n",
       "      <th>test</th>\n",
       "    </tr>\n",
       "    <tr>\n",
       "      <th>gender</th>\n",
       "      <th></th>\n",
       "      <th></th>\n",
       "      <th></th>\n",
       "      <th></th>\n",
       "      <th></th>\n",
       "    </tr>\n",
       "  </thead>\n",
       "  <tbody>\n",
       "    <tr>\n",
       "      <th>F</th>\n",
       "      <td>0.498826</td>\n",
       "      <td>0.299787</td>\n",
       "      <td>0.012663</td>\n",
       "      <td>25.562280</td>\n",
       "      <td>0.0</td>\n",
       "    </tr>\n",
       "    <tr>\n",
       "      <th>M</th>\n",
       "      <td>0.500723</td>\n",
       "      <td>0.200710</td>\n",
       "      <td>0.008124</td>\n",
       "      <td>25.478878</td>\n",
       "      <td>0.0</td>\n",
       "    </tr>\n",
       "  </tbody>\n",
       "</table>\n",
       "</div>"
      ],
      "text/plain": [
       "             bid       win  conversion        age  test\n",
       "gender                                                 \n",
       "F       0.498826  0.299787    0.012663  25.562280   0.0\n",
       "M       0.500723  0.200710    0.008124  25.478878   0.0"
      ]
     },
     "execution_count": 46,
     "metadata": {},
     "output_type": "execute_result"
    }
   ],
   "source": [
    "control_df.groupby('gender').mean()"
   ]
  },
  {
   "cell_type": "code",
   "execution_count": 47,
   "id": "5aa760b3",
   "metadata": {},
   "outputs": [
    {
     "data": {
      "text/plain": [
       "0.010393744328340839"
      ]
     },
     "execution_count": 47,
     "metadata": {},
     "output_type": "execute_result"
    }
   ],
   "source": [
    "control_df.groupby('gender').mean().conversion.mean()"
   ]
  },
  {
   "cell_type": "code",
   "execution_count": 48,
   "id": "7c0324fc",
   "metadata": {},
   "outputs": [
    {
     "data": {
      "text/html": [
       "<div>\n",
       "<style scoped>\n",
       "    .dataframe tbody tr th:only-of-type {\n",
       "        vertical-align: middle;\n",
       "    }\n",
       "\n",
       "    .dataframe tbody tr th {\n",
       "        vertical-align: top;\n",
       "    }\n",
       "\n",
       "    .dataframe thead th {\n",
       "        text-align: right;\n",
       "    }\n",
       "</style>\n",
       "<table border=\"1\" class=\"dataframe\">\n",
       "  <thead>\n",
       "    <tr style=\"text-align: right;\">\n",
       "      <th></th>\n",
       "      <th>bid</th>\n",
       "      <th>win</th>\n",
       "      <th>conversion</th>\n",
       "      <th>age</th>\n",
       "      <th>test</th>\n",
       "    </tr>\n",
       "    <tr>\n",
       "      <th>gender</th>\n",
       "      <th></th>\n",
       "      <th></th>\n",
       "      <th></th>\n",
       "      <th></th>\n",
       "      <th></th>\n",
       "    </tr>\n",
       "  </thead>\n",
       "  <tbody>\n",
       "    <tr>\n",
       "      <th>F</th>\n",
       "      <td>0.498507</td>\n",
       "      <td>0.300607</td>\n",
       "      <td>0.011845</td>\n",
       "      <td>25.478146</td>\n",
       "      <td>1.0</td>\n",
       "    </tr>\n",
       "    <tr>\n",
       "      <th>M</th>\n",
       "      <td>0.500901</td>\n",
       "      <td>0.200021</td>\n",
       "      <td>0.008229</td>\n",
       "      <td>25.514941</td>\n",
       "      <td>1.0</td>\n",
       "    </tr>\n",
       "  </tbody>\n",
       "</table>\n",
       "</div>"
      ],
      "text/plain": [
       "             bid       win  conversion        age  test\n",
       "gender                                                 \n",
       "F       0.498507  0.300607    0.011845  25.478146   1.0\n",
       "M       0.500901  0.200021    0.008229  25.514941   1.0"
      ]
     },
     "execution_count": 48,
     "metadata": {},
     "output_type": "execute_result"
    }
   ],
   "source": [
    "test_df.groupby('gender').mean()"
   ]
  },
  {
   "cell_type": "code",
   "execution_count": 49,
   "id": "40f5be14",
   "metadata": {},
   "outputs": [
    {
     "data": {
      "text/plain": [
       "0.010037027517470414"
      ]
     },
     "execution_count": 49,
     "metadata": {},
     "output_type": "execute_result"
    }
   ],
   "source": [
    "test_df.groupby('gender').mean().conversion.mean()"
   ]
  },
  {
   "cell_type": "code",
   "execution_count": 50,
   "id": "2be5928a",
   "metadata": {},
   "outputs": [
    {
     "data": {
      "text/html": [
       "<div>\n",
       "<style scoped>\n",
       "    .dataframe tbody tr th:only-of-type {\n",
       "        vertical-align: middle;\n",
       "    }\n",
       "\n",
       "    .dataframe tbody tr th {\n",
       "        vertical-align: top;\n",
       "    }\n",
       "\n",
       "    .dataframe thead th {\n",
       "        text-align: right;\n",
       "    }\n",
       "</style>\n",
       "<table border=\"1\" class=\"dataframe\">\n",
       "  <thead>\n",
       "    <tr style=\"text-align: right;\">\n",
       "      <th></th>\n",
       "      <th>bid</th>\n",
       "      <th>win</th>\n",
       "      <th>conversion</th>\n",
       "      <th>age</th>\n",
       "      <th>test</th>\n",
       "    </tr>\n",
       "    <tr>\n",
       "      <th>location</th>\n",
       "      <th></th>\n",
       "      <th></th>\n",
       "      <th></th>\n",
       "      <th></th>\n",
       "      <th></th>\n",
       "    </tr>\n",
       "  </thead>\n",
       "  <tbody>\n",
       "    <tr>\n",
       "      <th>AL</th>\n",
       "      <td>0.504644</td>\n",
       "      <td>0.258712</td>\n",
       "      <td>0.001932</td>\n",
       "      <td>25.710231</td>\n",
       "      <td>0.0</td>\n",
       "    </tr>\n",
       "    <tr>\n",
       "      <th>AR</th>\n",
       "      <td>0.494040</td>\n",
       "      <td>0.247182</td>\n",
       "      <td>0.011726</td>\n",
       "      <td>25.533862</td>\n",
       "      <td>0.0</td>\n",
       "    </tr>\n",
       "    <tr>\n",
       "      <th>FL</th>\n",
       "      <td>0.499983</td>\n",
       "      <td>0.245490</td>\n",
       "      <td>0.011187</td>\n",
       "      <td>25.462945</td>\n",
       "      <td>0.0</td>\n",
       "    </tr>\n",
       "    <tr>\n",
       "      <th>GA</th>\n",
       "      <td>0.498600</td>\n",
       "      <td>0.248722</td>\n",
       "      <td>0.011866</td>\n",
       "      <td>25.550823</td>\n",
       "      <td>0.0</td>\n",
       "    </tr>\n",
       "    <tr>\n",
       "      <th>KY</th>\n",
       "      <td>0.496235</td>\n",
       "      <td>0.249117</td>\n",
       "      <td>0.012296</td>\n",
       "      <td>25.385871</td>\n",
       "      <td>0.0</td>\n",
       "    </tr>\n",
       "    <tr>\n",
       "      <th>LA</th>\n",
       "      <td>0.498805</td>\n",
       "      <td>0.252070</td>\n",
       "      <td>0.015070</td>\n",
       "      <td>25.451862</td>\n",
       "      <td>0.0</td>\n",
       "    </tr>\n",
       "    <tr>\n",
       "      <th>MS</th>\n",
       "      <td>0.502346</td>\n",
       "      <td>0.251245</td>\n",
       "      <td>0.002671</td>\n",
       "      <td>25.468134</td>\n",
       "      <td>0.0</td>\n",
       "    </tr>\n",
       "    <tr>\n",
       "      <th>NC</th>\n",
       "      <td>0.500425</td>\n",
       "      <td>0.251948</td>\n",
       "      <td>0.001417</td>\n",
       "      <td>25.863933</td>\n",
       "      <td>0.0</td>\n",
       "    </tr>\n",
       "    <tr>\n",
       "      <th>SC</th>\n",
       "      <td>0.504730</td>\n",
       "      <td>0.253235</td>\n",
       "      <td>0.014419</td>\n",
       "      <td>25.497734</td>\n",
       "      <td>0.0</td>\n",
       "    </tr>\n",
       "    <tr>\n",
       "      <th>TN</th>\n",
       "      <td>0.506080</td>\n",
       "      <td>0.248730</td>\n",
       "      <td>0.002232</td>\n",
       "      <td>25.681699</td>\n",
       "      <td>0.0</td>\n",
       "    </tr>\n",
       "    <tr>\n",
       "      <th>VA</th>\n",
       "      <td>0.499629</td>\n",
       "      <td>0.250522</td>\n",
       "      <td>0.011455</td>\n",
       "      <td>25.464928</td>\n",
       "      <td>0.0</td>\n",
       "    </tr>\n",
       "  </tbody>\n",
       "</table>\n",
       "</div>"
      ],
      "text/plain": [
       "               bid       win  conversion        age  test\n",
       "location                                                 \n",
       "AL        0.504644  0.258712    0.001932  25.710231   0.0\n",
       "AR        0.494040  0.247182    0.011726  25.533862   0.0\n",
       "FL        0.499983  0.245490    0.011187  25.462945   0.0\n",
       "GA        0.498600  0.248722    0.011866  25.550823   0.0\n",
       "KY        0.496235  0.249117    0.012296  25.385871   0.0\n",
       "LA        0.498805  0.252070    0.015070  25.451862   0.0\n",
       "MS        0.502346  0.251245    0.002671  25.468134   0.0\n",
       "NC        0.500425  0.251948    0.001417  25.863933   0.0\n",
       "SC        0.504730  0.253235    0.014419  25.497734   0.0\n",
       "TN        0.506080  0.248730    0.002232  25.681699   0.0\n",
       "VA        0.499629  0.250522    0.011455  25.464928   0.0"
      ]
     },
     "execution_count": 50,
     "metadata": {},
     "output_type": "execute_result"
    }
   ],
   "source": [
    "control_df.groupby('location').mean()"
   ]
  },
  {
   "cell_type": "code",
   "execution_count": 51,
   "id": "39af83b1",
   "metadata": {},
   "outputs": [
    {
     "data": {
      "text/html": [
       "<div>\n",
       "<style scoped>\n",
       "    .dataframe tbody tr th:only-of-type {\n",
       "        vertical-align: middle;\n",
       "    }\n",
       "\n",
       "    .dataframe tbody tr th {\n",
       "        vertical-align: top;\n",
       "    }\n",
       "\n",
       "    .dataframe thead th {\n",
       "        text-align: right;\n",
       "    }\n",
       "</style>\n",
       "<table border=\"1\" class=\"dataframe\">\n",
       "  <thead>\n",
       "    <tr style=\"text-align: right;\">\n",
       "      <th></th>\n",
       "      <th>bid</th>\n",
       "      <th>win</th>\n",
       "      <th>conversion</th>\n",
       "      <th>age</th>\n",
       "      <th>test</th>\n",
       "    </tr>\n",
       "    <tr>\n",
       "      <th>location</th>\n",
       "      <th></th>\n",
       "      <th></th>\n",
       "      <th></th>\n",
       "      <th></th>\n",
       "      <th></th>\n",
       "    </tr>\n",
       "  </thead>\n",
       "  <tbody>\n",
       "    <tr>\n",
       "      <th>LA</th>\n",
       "      <td>0.498805</td>\n",
       "      <td>0.252070</td>\n",
       "      <td>0.015070</td>\n",
       "      <td>25.451862</td>\n",
       "      <td>0.0</td>\n",
       "    </tr>\n",
       "    <tr>\n",
       "      <th>SC</th>\n",
       "      <td>0.504730</td>\n",
       "      <td>0.253235</td>\n",
       "      <td>0.014419</td>\n",
       "      <td>25.497734</td>\n",
       "      <td>0.0</td>\n",
       "    </tr>\n",
       "    <tr>\n",
       "      <th>KY</th>\n",
       "      <td>0.496235</td>\n",
       "      <td>0.249117</td>\n",
       "      <td>0.012296</td>\n",
       "      <td>25.385871</td>\n",
       "      <td>0.0</td>\n",
       "    </tr>\n",
       "    <tr>\n",
       "      <th>GA</th>\n",
       "      <td>0.498600</td>\n",
       "      <td>0.248722</td>\n",
       "      <td>0.011866</td>\n",
       "      <td>25.550823</td>\n",
       "      <td>0.0</td>\n",
       "    </tr>\n",
       "    <tr>\n",
       "      <th>AR</th>\n",
       "      <td>0.494040</td>\n",
       "      <td>0.247182</td>\n",
       "      <td>0.011726</td>\n",
       "      <td>25.533862</td>\n",
       "      <td>0.0</td>\n",
       "    </tr>\n",
       "    <tr>\n",
       "      <th>VA</th>\n",
       "      <td>0.499629</td>\n",
       "      <td>0.250522</td>\n",
       "      <td>0.011455</td>\n",
       "      <td>25.464928</td>\n",
       "      <td>0.0</td>\n",
       "    </tr>\n",
       "    <tr>\n",
       "      <th>FL</th>\n",
       "      <td>0.499983</td>\n",
       "      <td>0.245490</td>\n",
       "      <td>0.011187</td>\n",
       "      <td>25.462945</td>\n",
       "      <td>0.0</td>\n",
       "    </tr>\n",
       "    <tr>\n",
       "      <th>MS</th>\n",
       "      <td>0.502346</td>\n",
       "      <td>0.251245</td>\n",
       "      <td>0.002671</td>\n",
       "      <td>25.468134</td>\n",
       "      <td>0.0</td>\n",
       "    </tr>\n",
       "    <tr>\n",
       "      <th>TN</th>\n",
       "      <td>0.506080</td>\n",
       "      <td>0.248730</td>\n",
       "      <td>0.002232</td>\n",
       "      <td>25.681699</td>\n",
       "      <td>0.0</td>\n",
       "    </tr>\n",
       "    <tr>\n",
       "      <th>AL</th>\n",
       "      <td>0.504644</td>\n",
       "      <td>0.258712</td>\n",
       "      <td>0.001932</td>\n",
       "      <td>25.710231</td>\n",
       "      <td>0.0</td>\n",
       "    </tr>\n",
       "    <tr>\n",
       "      <th>NC</th>\n",
       "      <td>0.500425</td>\n",
       "      <td>0.251948</td>\n",
       "      <td>0.001417</td>\n",
       "      <td>25.863933</td>\n",
       "      <td>0.0</td>\n",
       "    </tr>\n",
       "  </tbody>\n",
       "</table>\n",
       "</div>"
      ],
      "text/plain": [
       "               bid       win  conversion        age  test\n",
       "location                                                 \n",
       "LA        0.498805  0.252070    0.015070  25.451862   0.0\n",
       "SC        0.504730  0.253235    0.014419  25.497734   0.0\n",
       "KY        0.496235  0.249117    0.012296  25.385871   0.0\n",
       "GA        0.498600  0.248722    0.011866  25.550823   0.0\n",
       "AR        0.494040  0.247182    0.011726  25.533862   0.0\n",
       "VA        0.499629  0.250522    0.011455  25.464928   0.0\n",
       "FL        0.499983  0.245490    0.011187  25.462945   0.0\n",
       "MS        0.502346  0.251245    0.002671  25.468134   0.0\n",
       "TN        0.506080  0.248730    0.002232  25.681699   0.0\n",
       "AL        0.504644  0.258712    0.001932  25.710231   0.0\n",
       "NC        0.500425  0.251948    0.001417  25.863933   0.0"
      ]
     },
     "execution_count": 51,
     "metadata": {},
     "output_type": "execute_result"
    }
   ],
   "source": [
    "control_df.groupby('location').mean().sort_values('conversion', ascending=False)"
   ]
  },
  {
   "cell_type": "code",
   "execution_count": 52,
   "id": "b72a9f82",
   "metadata": {},
   "outputs": [
    {
     "data": {
      "text/plain": [
       "0.00875166938909079"
      ]
     },
     "execution_count": 52,
     "metadata": {},
     "output_type": "execute_result"
    }
   ],
   "source": [
    "control_df.groupby('location').mean().conversion.mean()#.sort_values('conversion', ascending=False)"
   ]
  },
  {
   "cell_type": "code",
   "execution_count": 53,
   "id": "dee67fca",
   "metadata": {},
   "outputs": [
    {
     "data": {
      "text/html": [
       "<div>\n",
       "<style scoped>\n",
       "    .dataframe tbody tr th:only-of-type {\n",
       "        vertical-align: middle;\n",
       "    }\n",
       "\n",
       "    .dataframe tbody tr th {\n",
       "        vertical-align: top;\n",
       "    }\n",
       "\n",
       "    .dataframe thead th {\n",
       "        text-align: right;\n",
       "    }\n",
       "</style>\n",
       "<table border=\"1\" class=\"dataframe\">\n",
       "  <thead>\n",
       "    <tr style=\"text-align: right;\">\n",
       "      <th></th>\n",
       "      <th>bid</th>\n",
       "      <th>win</th>\n",
       "      <th>conversion</th>\n",
       "      <th>age</th>\n",
       "      <th>test</th>\n",
       "    </tr>\n",
       "    <tr>\n",
       "      <th>location</th>\n",
       "      <th></th>\n",
       "      <th></th>\n",
       "      <th></th>\n",
       "      <th></th>\n",
       "      <th></th>\n",
       "    </tr>\n",
       "  </thead>\n",
       "  <tbody>\n",
       "    <tr>\n",
       "      <th>AL</th>\n",
       "      <td>0.499252</td>\n",
       "      <td>0.247333</td>\n",
       "      <td>0.003814</td>\n",
       "      <td>25.408786</td>\n",
       "      <td>1.0</td>\n",
       "    </tr>\n",
       "    <tr>\n",
       "      <th>AR</th>\n",
       "      <td>0.498746</td>\n",
       "      <td>0.252560</td>\n",
       "      <td>0.016242</td>\n",
       "      <td>25.530696</td>\n",
       "      <td>1.0</td>\n",
       "    </tr>\n",
       "    <tr>\n",
       "      <th>FL</th>\n",
       "      <td>0.500469</td>\n",
       "      <td>0.250581</td>\n",
       "      <td>0.014426</td>\n",
       "      <td>25.389788</td>\n",
       "      <td>1.0</td>\n",
       "    </tr>\n",
       "    <tr>\n",
       "      <th>GA</th>\n",
       "      <td>0.498663</td>\n",
       "      <td>0.250170</td>\n",
       "      <td>0.013929</td>\n",
       "      <td>25.468649</td>\n",
       "      <td>1.0</td>\n",
       "    </tr>\n",
       "    <tr>\n",
       "      <th>KY</th>\n",
       "      <td>0.497422</td>\n",
       "      <td>0.253054</td>\n",
       "      <td>0.015310</td>\n",
       "      <td>25.315643</td>\n",
       "      <td>1.0</td>\n",
       "    </tr>\n",
       "    <tr>\n",
       "      <th>LA</th>\n",
       "      <td>0.499939</td>\n",
       "      <td>0.250676</td>\n",
       "      <td>0.015950</td>\n",
       "      <td>25.655885</td>\n",
       "      <td>1.0</td>\n",
       "    </tr>\n",
       "    <tr>\n",
       "      <th>MS</th>\n",
       "      <td>0.502059</td>\n",
       "      <td>0.252666</td>\n",
       "      <td>0.005333</td>\n",
       "      <td>25.644352</td>\n",
       "      <td>1.0</td>\n",
       "    </tr>\n",
       "    <tr>\n",
       "      <th>NC</th>\n",
       "      <td>0.499805</td>\n",
       "      <td>0.251355</td>\n",
       "      <td>0.004223</td>\n",
       "      <td>25.487599</td>\n",
       "      <td>1.0</td>\n",
       "    </tr>\n",
       "    <tr>\n",
       "      <th>SC</th>\n",
       "      <td>0.497131</td>\n",
       "      <td>0.248464</td>\n",
       "      <td>0.015910</td>\n",
       "      <td>25.360366</td>\n",
       "      <td>1.0</td>\n",
       "    </tr>\n",
       "    <tr>\n",
       "      <th>TN</th>\n",
       "      <td>0.502028</td>\n",
       "      <td>0.249033</td>\n",
       "      <td>0.005811</td>\n",
       "      <td>25.588605</td>\n",
       "      <td>1.0</td>\n",
       "    </tr>\n",
       "    <tr>\n",
       "      <th>VA</th>\n",
       "      <td>0.498351</td>\n",
       "      <td>0.248911</td>\n",
       "      <td>0.013480</td>\n",
       "      <td>25.521197</td>\n",
       "      <td>1.0</td>\n",
       "    </tr>\n",
       "  </tbody>\n",
       "</table>\n",
       "</div>"
      ],
      "text/plain": [
       "               bid       win  conversion        age  test\n",
       "location                                                 \n",
       "AL        0.499252  0.247333    0.003814  25.408786   1.0\n",
       "AR        0.498746  0.252560    0.016242  25.530696   1.0\n",
       "FL        0.500469  0.250581    0.014426  25.389788   1.0\n",
       "GA        0.498663  0.250170    0.013929  25.468649   1.0\n",
       "KY        0.497422  0.253054    0.015310  25.315643   1.0\n",
       "LA        0.499939  0.250676    0.015950  25.655885   1.0\n",
       "MS        0.502059  0.252666    0.005333  25.644352   1.0\n",
       "NC        0.499805  0.251355    0.004223  25.487599   1.0\n",
       "SC        0.497131  0.248464    0.015910  25.360366   1.0\n",
       "TN        0.502028  0.249033    0.005811  25.588605   1.0\n",
       "VA        0.498351  0.248911    0.013480  25.521197   1.0"
      ]
     },
     "execution_count": 53,
     "metadata": {},
     "output_type": "execute_result"
    }
   ],
   "source": [
    "test_df.groupby('location').mean()"
   ]
  },
  {
   "cell_type": "code",
   "execution_count": 54,
   "id": "a816c4c0",
   "metadata": {},
   "outputs": [
    {
     "data": {
      "text/html": [
       "<div>\n",
       "<style scoped>\n",
       "    .dataframe tbody tr th:only-of-type {\n",
       "        vertical-align: middle;\n",
       "    }\n",
       "\n",
       "    .dataframe tbody tr th {\n",
       "        vertical-align: top;\n",
       "    }\n",
       "\n",
       "    .dataframe thead th {\n",
       "        text-align: right;\n",
       "    }\n",
       "</style>\n",
       "<table border=\"1\" class=\"dataframe\">\n",
       "  <thead>\n",
       "    <tr style=\"text-align: right;\">\n",
       "      <th></th>\n",
       "      <th>bid</th>\n",
       "      <th>win</th>\n",
       "      <th>conversion</th>\n",
       "      <th>age</th>\n",
       "      <th>test</th>\n",
       "    </tr>\n",
       "    <tr>\n",
       "      <th>location</th>\n",
       "      <th></th>\n",
       "      <th></th>\n",
       "      <th></th>\n",
       "      <th></th>\n",
       "      <th></th>\n",
       "    </tr>\n",
       "  </thead>\n",
       "  <tbody>\n",
       "    <tr>\n",
       "      <th>AR</th>\n",
       "      <td>0.498746</td>\n",
       "      <td>0.252560</td>\n",
       "      <td>0.016242</td>\n",
       "      <td>25.530696</td>\n",
       "      <td>1.0</td>\n",
       "    </tr>\n",
       "    <tr>\n",
       "      <th>LA</th>\n",
       "      <td>0.499939</td>\n",
       "      <td>0.250676</td>\n",
       "      <td>0.015950</td>\n",
       "      <td>25.655885</td>\n",
       "      <td>1.0</td>\n",
       "    </tr>\n",
       "    <tr>\n",
       "      <th>SC</th>\n",
       "      <td>0.497131</td>\n",
       "      <td>0.248464</td>\n",
       "      <td>0.015910</td>\n",
       "      <td>25.360366</td>\n",
       "      <td>1.0</td>\n",
       "    </tr>\n",
       "    <tr>\n",
       "      <th>KY</th>\n",
       "      <td>0.497422</td>\n",
       "      <td>0.253054</td>\n",
       "      <td>0.015310</td>\n",
       "      <td>25.315643</td>\n",
       "      <td>1.0</td>\n",
       "    </tr>\n",
       "    <tr>\n",
       "      <th>FL</th>\n",
       "      <td>0.500469</td>\n",
       "      <td>0.250581</td>\n",
       "      <td>0.014426</td>\n",
       "      <td>25.389788</td>\n",
       "      <td>1.0</td>\n",
       "    </tr>\n",
       "    <tr>\n",
       "      <th>GA</th>\n",
       "      <td>0.498663</td>\n",
       "      <td>0.250170</td>\n",
       "      <td>0.013929</td>\n",
       "      <td>25.468649</td>\n",
       "      <td>1.0</td>\n",
       "    </tr>\n",
       "    <tr>\n",
       "      <th>VA</th>\n",
       "      <td>0.498351</td>\n",
       "      <td>0.248911</td>\n",
       "      <td>0.013480</td>\n",
       "      <td>25.521197</td>\n",
       "      <td>1.0</td>\n",
       "    </tr>\n",
       "    <tr>\n",
       "      <th>TN</th>\n",
       "      <td>0.502028</td>\n",
       "      <td>0.249033</td>\n",
       "      <td>0.005811</td>\n",
       "      <td>25.588605</td>\n",
       "      <td>1.0</td>\n",
       "    </tr>\n",
       "    <tr>\n",
       "      <th>MS</th>\n",
       "      <td>0.502059</td>\n",
       "      <td>0.252666</td>\n",
       "      <td>0.005333</td>\n",
       "      <td>25.644352</td>\n",
       "      <td>1.0</td>\n",
       "    </tr>\n",
       "    <tr>\n",
       "      <th>NC</th>\n",
       "      <td>0.499805</td>\n",
       "      <td>0.251355</td>\n",
       "      <td>0.004223</td>\n",
       "      <td>25.487599</td>\n",
       "      <td>1.0</td>\n",
       "    </tr>\n",
       "    <tr>\n",
       "      <th>AL</th>\n",
       "      <td>0.499252</td>\n",
       "      <td>0.247333</td>\n",
       "      <td>0.003814</td>\n",
       "      <td>25.408786</td>\n",
       "      <td>1.0</td>\n",
       "    </tr>\n",
       "  </tbody>\n",
       "</table>\n",
       "</div>"
      ],
      "text/plain": [
       "               bid       win  conversion        age  test\n",
       "location                                                 \n",
       "AR        0.498746  0.252560    0.016242  25.530696   1.0\n",
       "LA        0.499939  0.250676    0.015950  25.655885   1.0\n",
       "SC        0.497131  0.248464    0.015910  25.360366   1.0\n",
       "KY        0.497422  0.253054    0.015310  25.315643   1.0\n",
       "FL        0.500469  0.250581    0.014426  25.389788   1.0\n",
       "GA        0.498663  0.250170    0.013929  25.468649   1.0\n",
       "VA        0.498351  0.248911    0.013480  25.521197   1.0\n",
       "TN        0.502028  0.249033    0.005811  25.588605   1.0\n",
       "MS        0.502059  0.252666    0.005333  25.644352   1.0\n",
       "NC        0.499805  0.251355    0.004223  25.487599   1.0\n",
       "AL        0.499252  0.247333    0.003814  25.408786   1.0"
      ]
     },
     "execution_count": 54,
     "metadata": {},
     "output_type": "execute_result"
    }
   ],
   "source": [
    "test_df.groupby('location').mean().sort_values('conversion', ascending=False)"
   ]
  },
  {
   "cell_type": "code",
   "execution_count": 55,
   "id": "40c4b822",
   "metadata": {},
   "outputs": [
    {
     "data": {
      "text/plain": [
       "0.011311722764707545"
      ]
     },
     "execution_count": 55,
     "metadata": {},
     "output_type": "execute_result"
    }
   ],
   "source": [
    "test_df.groupby('location').mean().conversion.mean()"
   ]
  },
  {
   "cell_type": "code",
   "execution_count": 56,
   "id": "bf37884d",
   "metadata": {},
   "outputs": [],
   "source": [
    "d1 = np.array([control_df.conversion.mean(),\n",
    "               control_df.groupby('age').mean().conversion.mean(),\n",
    "               control_df.groupby('gender').mean().conversion.mean(),\n",
    "               control_df.groupby('location').mean().conversion.mean()]).round(4)\n",
    "d2 = np.array([test_df.conversion.mean(),\n",
    "               test_df.groupby('age').mean().conversion.mean(),\n",
    "               test_df.groupby('gender').mean().conversion.mean(),\n",
    "               test_df.groupby('location').mean().conversion.mean()]).round(4)\n",
    "\n",
    "dlabels = ['Control', 'Test']\n",
    "labels = ['All Sub-Groups','Age', 'Gender', 'Location']\n",
    "labels.sort()\n",
    "xlabel = 'Grouping Technique'\n",
    "ylabel = 'Average Conversion Rate'\n",
    "\n",
    "x = np.arange(len(labels))\n",
    "width = 0.35\n",
    "xticks = [x, labels]\n",
    "\n",
    "title = 'Control and Test Group Average Conversion Rates by Grouping Technique'"
   ]
  },
  {
   "cell_type": "code",
   "execution_count": 57,
   "id": "7976cad4",
   "metadata": {},
   "outputs": [
    {
     "data": {
      "image/png": "[encoded data removed]",
      "text/plain": [
       "<Figure size 864x432 with 1 Axes>"
      ]
     },
     "metadata": {
      "needs_background": "light"
     },
     "output_type": "display_data"
    }
   ],
   "source": [
    "makeGroupedBars(d1, d2, x, dlabels, xticks, xlabel, ylabel, title)"
   ]
  },
  {
   "cell_type": "code",
   "execution_count": 58,
   "id": "74ad6086",
   "metadata": {},
   "outputs": [],
   "source": [
    "d1 = control_df.groupby('location').mean().conversion.sort_index().values.round(3)\n",
    "d2 = test_df.groupby('location').mean().conversion.sort_index().values.round(3)\n",
    "\n",
    "dlabels = ['Control', 'Test']\n",
    "labels = list(set(control.location.values))\n",
    "labels.sort()\n",
    "xlabel = 'State'\n",
    "ylabel = 'Conversion Rate'\n",
    "\n",
    "x = np.arange(len(labels))\n",
    "width = 0.35\n",
    "xticks = [x, labels]\n",
    "\n",
    "title = 'Control and Test Group Conversion Rates by State'"
   ]
  },
  {
   "cell_type": "code",
   "execution_count": 59,
   "id": "08b1143f",
   "metadata": {},
   "outputs": [
    {
     "data": {
      "image/png": "[encoded data removed]",
      "text/plain": [
       "<Figure size 864x432 with 1 Axes>"
      ]
     },
     "metadata": {
      "needs_background": "light"
     },
     "output_type": "display_data"
    }
   ],
   "source": [
    "makeGroupedBars(d1, d2, x, dlabels, xticks, xlabel, ylabel, title)"
   ]
  },
  {
   "cell_type": "code",
   "execution_count": 60,
   "id": "7c5bbdf3",
   "metadata": {},
   "outputs": [
    {
     "data": {
      "text/plain": [
       "location\n",
       "AL    13459\n",
       "AR    30787\n",
       "FL    29321\n",
       "GA    28570\n",
       "KY    30010\n",
       "LA    28865\n",
       "MS    13855\n",
       "NC    14118\n",
       "SC    30446\n",
       "TN    12994\n",
       "VA    29682\n",
       "Name: timestamp, dtype: int64"
      ]
     },
     "execution_count": 60,
     "metadata": {},
     "output_type": "execute_result"
    }
   ],
   "source": [
    "control_df.groupby('location').count().timestamp"
   ]
  },
  {
   "cell_type": "code",
   "execution_count": 61,
   "id": "48612fd9",
   "metadata": {},
   "outputs": [],
   "source": [
    "d1 = control_df.groupby('location').count().timestamp.sort_index().values.round(3)\n",
    "d2 = test_df.groupby('location').count().timestamp.sort_index().values.round(3)\n",
    "\n",
    "dlabels = ['Control', 'Test']\n",
    "labels = list(set(control.location.values))\n",
    "labels.sort()\n",
    "xlabel = 'State'\n",
    "ylabel = 'Requests'\n",
    "\n",
    "x = np.arange(len(labels))\n",
    "width = 0.35\n",
    "xticks = [x, labels]\n",
    "\n",
    "title = 'Control and Test Group Requests by State'"
   ]
  },
  {
   "cell_type": "code",
   "execution_count": 62,
   "id": "39fc8572",
   "metadata": {},
   "outputs": [
    {
     "data": {
      "image/png": "[encoded data removed]",
      "text/plain": [
       "<Figure size 864x432 with 1 Axes>"
      ]
     },
     "metadata": {
      "needs_background": "light"
     },
     "output_type": "display_data"
    }
   ],
   "source": [
    "makeGroupedBars(d1, d2, x, dlabels, xticks, xlabel, ylabel, title)"
   ]
  },
  {
   "cell_type": "code",
   "execution_count": 63,
   "id": "bb2e1c2f",
   "metadata": {},
   "outputs": [],
   "source": [
    "trunctrl = control_df[~control_df['location'].isin(['AL', 'MS', 'NC', 'TN'])]\n",
    "trunctest = test_df[~test_df['location'].isin(['AL', 'MS', 'NC', 'TN'])]\n",
    "truncfull = full[~full['location'].isin(['AL', 'MS', 'NC', 'TN'])]"
   ]
  },
  {
   "cell_type": "code",
   "execution_count": 64,
   "id": "f3bf968a",
   "metadata": {},
   "outputs": [
    {
     "data": {
      "text/plain": [
       "-0.03502060970857768"
      ]
     },
     "execution_count": 64,
     "metadata": {},
     "output_type": "execute_result"
    }
   ],
   "source": [
    "(test_df.conversion.mean() * 100) - (control_df.conversion.mean() * 100)"
   ]
  },
  {
   "cell_type": "code",
   "execution_count": 65,
   "id": "d4182cb5",
   "metadata": {},
   "outputs": [
    {
     "data": {
      "text/plain": [
       "0.2460778202231273"
      ]
     },
     "execution_count": 65,
     "metadata": {},
     "output_type": "execute_result"
    }
   ],
   "source": [
    "(trunctest.conversion.mean() * 100) - (trunctrl.conversion.mean() * 100)"
   ]
  },
  {
   "cell_type": "code",
   "execution_count": 66,
   "id": "6d9966cb",
   "metadata": {},
   "outputs": [
    {
     "data": {
      "text/plain": [
       "0.019722031460434053"
      ]
     },
     "execution_count": 66,
     "metadata": {},
     "output_type": "execute_result"
    }
   ],
   "source": [
    "(control_df.conversion.mean() * 100) - (full.conversion.mean() * 100)"
   ]
  },
  {
   "cell_type": "code",
   "execution_count": 67,
   "id": "fa446daf",
   "metadata": {},
   "outputs": [
    {
     "data": {
      "text/plain": [
       "-0.11183680750774361"
      ]
     },
     "execution_count": 67,
     "metadata": {},
     "output_type": "execute_result"
    }
   ],
   "source": [
    "(trunctrl.conversion.mean() * 100) - (truncfull.conversion.mean() * 100)"
   ]
  },
  {
   "cell_type": "code",
   "execution_count": 68,
   "id": "d4ac248b",
   "metadata": {},
   "outputs": [
    {
     "data": {
      "text/plain": [
       "-0.015298578248143624"
      ]
     },
     "execution_count": 68,
     "metadata": {},
     "output_type": "execute_result"
    }
   ],
   "source": [
    "(test_df.conversion.mean() * 100) - (full.conversion.mean() * 100)"
   ]
  },
  {
   "cell_type": "code",
   "execution_count": 69,
   "id": "85333b43",
   "metadata": {},
   "outputs": [
    {
     "data": {
      "text/plain": [
       "0.1342410127153837"
      ]
     },
     "execution_count": 69,
     "metadata": {},
     "output_type": "execute_result"
    }
   ],
   "source": [
    "(trunctest.conversion.mean() * 100) - (truncfull.conversion.mean() * 100)"
   ]
  },
  {
   "cell_type": "markdown",
   "id": "cc4a3c77",
   "metadata": {},
   "source": [
    "# A / B Testing to Evaluate Campaign Performance\n",
    "\n",
    "Comparing the conversion rate (mean conversion value for conversion column) for the control and test groups, we actually see a decline in conversion in the test group, suggesting that the new ad decreases conversion.\n",
    "\n",
    "We can confirm whether this decrease happened by chance or was actually correlated to the new creative design by hypothesis testing our scenario.\n",
    "\n",
    "In this case, the actual A/B test has already effectively been run and we have to evaluate the results of the test by considering campaign performance between the control and test groups.\n",
    "\n",
    "## Experiment Design\n",
    "\n",
    "Normally, such a test would be evaluated in terms of some practical significance boundary determined in consultation with various campaign stakeholders. **Since no practical significance boundary was specified in the assessment prompt, we will assume statistical significance is the practical significance boundary,** meaning that if the difference in conversion rate is statistically significant, this is practically significant for the business.\n",
    "\n",
    "I want to start by looking at these data another way. Instead of starting with conversion rate, as above, I want to look at the raw numbers of visitors, bids and conversions in the control and test groups."
   ]
  },
  {
   "cell_type": "code",
   "execution_count": 70,
   "id": "b6900ddc",
   "metadata": {},
   "outputs": [],
   "source": [
    "data = [[control_df.bid.sum(),\n",
    "         control_df.win.sum(),\n",
    "         control_df.conversion.sum()],\n",
    "        [test_df.bid.sum(),\n",
    "         test_df.win.sum(),\n",
    "         test_df.conversion.sum()]]"
   ]
  },
  {
   "cell_type": "code",
   "execution_count": 71,
   "id": "994cd26e",
   "metadata": {},
   "outputs": [],
   "source": [
    "truncdata = [[trunctrl.bid.sum(),\n",
    "              trunctrl.win.sum(),\n",
    "              trunctrl.conversion.sum()],\n",
    "             [trunctest.bid.sum(),\n",
    "              trunctest.win.sum(),\n",
    "              trunctest.conversion.sum()]]"
   ]
  },
  {
   "cell_type": "code",
   "execution_count": 72,
   "id": "b3ab0fbb",
   "metadata": {},
   "outputs": [],
   "source": [
    "conv_df = pd.DataFrame(data, index=['control', 'test'], columns=['bids', 'wins', 'conversions'])"
   ]
  },
  {
   "cell_type": "code",
   "execution_count": 73,
   "id": "bfbed294",
   "metadata": {},
   "outputs": [],
   "source": [
    "trunc_conv = pd.DataFrame(truncdata, index=['control', 'test'], columns=['bids', 'wins', 'conversions'])"
   ]
  },
  {
   "cell_type": "code",
   "execution_count": 74,
   "id": "7abc9a5e",
   "metadata": {},
   "outputs": [
    {
     "data": {
      "text/html": [
       "<div>\n",
       "<style scoped>\n",
       "    .dataframe tbody tr th:only-of-type {\n",
       "        vertical-align: middle;\n",
       "    }\n",
       "\n",
       "    .dataframe tbody tr th {\n",
       "        vertical-align: top;\n",
       "    }\n",
       "\n",
       "    .dataframe thead th {\n",
       "        text-align: right;\n",
       "    }\n",
       "</style>\n",
       "<table border=\"1\" class=\"dataframe\">\n",
       "  <thead>\n",
       "    <tr style=\"text-align: right;\">\n",
       "      <th></th>\n",
       "      <th>bids</th>\n",
       "      <th>wins</th>\n",
       "      <th>conversions</th>\n",
       "    </tr>\n",
       "  </thead>\n",
       "  <tbody>\n",
       "    <tr>\n",
       "      <th>control</th>\n",
       "      <td>130995</td>\n",
       "      <td>65564</td>\n",
       "      <td>2723</td>\n",
       "    </tr>\n",
       "    <tr>\n",
       "      <th>test</th>\n",
       "      <td>168846</td>\n",
       "      <td>84595</td>\n",
       "      <td>3392</td>\n",
       "    </tr>\n",
       "  </tbody>\n",
       "</table>\n",
       "</div>"
      ],
      "text/plain": [
       "           bids   wins  conversions\n",
       "control  130995  65564         2723\n",
       "test     168846  84595         3392"
      ]
     },
     "execution_count": 74,
     "metadata": {},
     "output_type": "execute_result"
    }
   ],
   "source": [
    "conv_df"
   ]
  },
  {
   "cell_type": "code",
   "execution_count": 75,
   "id": "c57878f3",
   "metadata": {},
   "outputs": [
    {
     "data": {
      "text/html": [
       "<div>\n",
       "<style scoped>\n",
       "    .dataframe tbody tr th:only-of-type {\n",
       "        vertical-align: middle;\n",
       "    }\n",
       "\n",
       "    .dataframe tbody tr th {\n",
       "        vertical-align: top;\n",
       "    }\n",
       "\n",
       "    .dataframe thead th {\n",
       "        text-align: right;\n",
       "    }\n",
       "</style>\n",
       "<table border=\"1\" class=\"dataframe\">\n",
       "  <thead>\n",
       "    <tr style=\"text-align: right;\">\n",
       "      <th></th>\n",
       "      <th>bids</th>\n",
       "      <th>wins</th>\n",
       "      <th>conversions</th>\n",
       "    </tr>\n",
       "  </thead>\n",
       "  <tbody>\n",
       "    <tr>\n",
       "      <th>control</th>\n",
       "      <td>103602</td>\n",
       "      <td>51812</td>\n",
       "      <td>2611</td>\n",
       "    </tr>\n",
       "    <tr>\n",
       "      <th>test</th>\n",
       "      <td>86280</td>\n",
       "      <td>43365</td>\n",
       "      <td>2601</td>\n",
       "    </tr>\n",
       "  </tbody>\n",
       "</table>\n",
       "</div>"
      ],
      "text/plain": [
       "           bids   wins  conversions\n",
       "control  103602  51812         2611\n",
       "test      86280  43365         2601"
      ]
     },
     "execution_count": 75,
     "metadata": {},
     "output_type": "execute_result"
    }
   ],
   "source": [
    "trunc_conv"
   ]
  },
  {
   "cell_type": "code",
   "execution_count": 76,
   "id": "070a4f45",
   "metadata": {},
   "outputs": [],
   "source": [
    "def permutation_test(s, A, B):\n",
    "    n = A + B\n",
    "    iB = set(random.sample(range(n), B))\n",
    "    iA = set(range(n)) - iB\n",
    "    return s.loc[iB].mean() - s.loc[iA].mean()"
   ]
  },
  {
   "cell_type": "code",
   "execution_count": 77,
   "id": "68bf0e1e",
   "metadata": {},
   "outputs": [],
   "source": [
    "def get_pt_diffs(df, resamples=1000, neg=True):\n",
    "    if neg:\n",
    "        obs_pct_diff = 100 * (df.iloc[0][1] / df.iloc[0][0] - df.iloc[1][1] / df.iloc[1][0])\n",
    "    else:\n",
    "        obs_pct_diff = 100 * (df.iloc[1][1] / df.iloc[1][0] - df.iloc[0][1] / df.iloc[0][0])\n",
    "    conversion = [0] * (sum([df.iloc[0][0], df.iloc[1][0]]) - sum([df.iloc[0][1], df.iloc[1][1]]))\n",
    "    conversion.extend([1] * sum([df.iloc[0][1], df.iloc[1][1]]))\n",
    "    conversion = pd.Series(conversion)\n",
    "\n",
    "    pt_diffs = [100 * permutation_test(conversion, df.iloc[0][0], df.iloc[1][0])\n",
    "                for _ in range(resamples)]\n",
    "    return pt_diffs, obs_pct_diff"
   ]
  },
  {
   "cell_type": "code",
   "execution_count": 78,
   "id": "a0c44171",
   "metadata": {},
   "outputs": [],
   "source": [
    "pt_diffs, obs_pct_diff = get_pt_diffs(conv_df[['bids', 'wins']])"
   ]
  },
  {
   "cell_type": "code",
   "execution_count": 79,
   "id": "d312ad46",
   "metadata": {},
   "outputs": [],
   "source": [
    "def make_perm_hist(diffs, obs_pct, title, placement):\n",
    "    fig, ax = plt.subplots(figsize=(12,6))\n",
    "    ax.hist(pt_diffs, bins=11, rwidth=0.9)\n",
    "    ax.axvline(x=obs_pct_diff, color='black', lw=2)\n",
    "    ax.text(placement[0], placement[1], f'Observed\\nDifference\\n= {round(obs_pct, 2)} percent', bbox={'facecolor': 'white'})\n",
    "    ax.set_xlabel('Conversion rate (percent)')\n",
    "    ax.set_ylabel('Frequency')\n",
    "    ax.set_title(title)\n",
    "    \n",
    "    plt.savefig(f'../images/{title.replace(\" \", \"_\")}.png')\n",
    "    \n",
    "    plt.show();"
   ]
  },
  {
   "cell_type": "code",
   "execution_count": 80,
   "id": "a74ec6d3",
   "metadata": {},
   "outputs": [
    {
     "data": {
      "image/png": "[encoded data removed]",
      "text/plain": [
       "<Figure size 864x432 with 1 Axes>"
      ]
     },
     "metadata": {
      "needs_background": "light"
     },
     "output_type": "display_data"
    }
   ],
   "source": [
    "make_perm_hist(pt_diffs,\n",
    "               obs_pct_diff,\n",
    "               'Frequency of Observed Differences Comparing Bids to Wins',\n",
    "               [5*obs_pct_diff, 175])"
   ]
  },
  {
   "cell_type": "code",
   "execution_count": 81,
   "id": "fc615760",
   "metadata": {},
   "outputs": [
    {
     "data": {
      "text/plain": [
       "0.609"
      ]
     },
     "execution_count": 81,
     "metadata": {},
     "output_type": "execute_result"
    }
   ],
   "source": [
    "np.mean([diff > obs_pct_diff for diff in pt_diffs])"
   ]
  },
  {
   "cell_type": "code",
   "execution_count": 82,
   "id": "3cb987e5",
   "metadata": {},
   "outputs": [],
   "source": [
    "def calc_pVal(df):\n",
    "    survivors = np.array([[df.iloc[0][1], df.iloc[0][0] - df.iloc[0][1]],\n",
    "                         [df.iloc[1][1], df.iloc[1][0] - df.iloc[1][1]]])\n",
    "    chi2, pval, df2, _ = scs.chi2_contingency(survivors)\n",
    "    \n",
    "    return pval"
   ]
  },
  {
   "cell_type": "code",
   "execution_count": 83,
   "id": "030bc62a",
   "metadata": {},
   "outputs": [
    {
     "data": {
      "text/plain": [
       "0.7841564209738942"
      ]
     },
     "execution_count": 83,
     "metadata": {},
     "output_type": "execute_result"
    }
   ],
   "source": [
    "calc_pVal(conv_df[['bids', 'wins']])"
   ]
  },
  {
   "cell_type": "code",
   "execution_count": 84,
   "id": "7ec363f1",
   "metadata": {},
   "outputs": [],
   "source": [
    "pt_diffs, obs_pct_diff = get_pt_diffs(trunc_conv[['bids', 'wins']], neg=False)"
   ]
  },
  {
   "cell_type": "code",
   "execution_count": 85,
   "id": "2d31ceaa",
   "metadata": {},
   "outputs": [
    {
     "data": {
      "image/png": "[encoded data removed]",
      "text/plain": [
       "<Figure size 864x432 with 1 Axes>"
      ]
     },
     "metadata": {
      "needs_background": "light"
     },
     "output_type": "display_data"
    }
   ],
   "source": [
    "make_perm_hist(pt_diffs,\n",
    "               obs_pct_diff,\n",
    "               'Frequency of Observed Differences Comparing Bids to Wins with Truncated Dataset',\n",
    "               [5*obs_pct_diff, 175])"
   ]
  },
  {
   "cell_type": "code",
   "execution_count": 86,
   "id": "a261f035",
   "metadata": {},
   "outputs": [
    {
     "data": {
      "text/plain": [
       "0.136"
      ]
     },
     "execution_count": 86,
     "metadata": {},
     "output_type": "execute_result"
    }
   ],
   "source": [
    "np.mean([diff > obs_pct_diff for diff in pt_diffs])"
   ]
  },
  {
   "cell_type": "code",
   "execution_count": 87,
   "id": "5e70c8ac",
   "metadata": {},
   "outputs": [
    {
     "data": {
      "text/plain": [
       "0.27972459586566406"
      ]
     },
     "execution_count": 87,
     "metadata": {},
     "output_type": "execute_result"
    }
   ],
   "source": [
    "calc_pVal(trunc_conv[['bids', 'wins']])"
   ]
  },
  {
   "cell_type": "code",
   "execution_count": 88,
   "id": "8e35859e",
   "metadata": {},
   "outputs": [],
   "source": [
    "pt_diffs, obs_pct_diff = get_pt_diffs(conv_df[['wins', 'conversions']])"
   ]
  },
  {
   "cell_type": "code",
   "execution_count": 89,
   "id": "ba05777e",
   "metadata": {},
   "outputs": [
    {
     "data": {
      "image/png": "[encoded data removed]",
      "text/plain": [
       "<Figure size 864x432 with 1 Axes>"
      ]
     },
     "metadata": {
      "needs_background": "light"
     },
     "output_type": "display_data"
    }
   ],
   "source": [
    "make_perm_hist(pt_diffs,\n",
    "               obs_pct_diff,\n",
    "               'Frequency of Observed Differences Comparing Wins to Conversions',\n",
    "               [1.1*obs_pct_diff, 175])"
   ]
  },
  {
   "cell_type": "code",
   "execution_count": 90,
   "id": "10a5c2b5",
   "metadata": {},
   "outputs": [
    {
     "data": {
      "text/plain": [
       "0.064"
      ]
     },
     "execution_count": 90,
     "metadata": {},
     "output_type": "execute_result"
    }
   ],
   "source": [
    "np.mean([diff > obs_pct_diff for diff in pt_diffs])"
   ]
  },
  {
   "cell_type": "code",
   "execution_count": 91,
   "id": "ede575ab",
   "metadata": {},
   "outputs": [
    {
     "data": {
      "text/plain": [
       "0.16690884512421925"
      ]
     },
     "execution_count": 91,
     "metadata": {},
     "output_type": "execute_result"
    }
   ],
   "source": [
    "calc_pVal(conv_df[['wins', 'conversions']])"
   ]
  },
  {
   "cell_type": "code",
   "execution_count": 92,
   "id": "6b44f3b9",
   "metadata": {},
   "outputs": [],
   "source": [
    "pt_diffs, obs_pct_diff = get_pt_diffs(trunc_conv[['wins', 'conversions']], neg=False)"
   ]
  },
  {
   "cell_type": "code",
   "execution_count": 93,
   "id": "f8f26548",
   "metadata": {},
   "outputs": [
    {
     "data": {
      "image/png": "[encoded data removed]",
      "text/plain": [
       "<Figure size 864x432 with 1 Axes>"
      ]
     },
     "metadata": {
      "needs_background": "light"
     },
     "output_type": "display_data"
    }
   ],
   "source": [
    "make_perm_hist(pt_diffs,\n",
    "               obs_pct_diff,\n",
    "               'Frequency of Observed Differences Comparing Wins to Conversions with Truncated Dataset',\n",
    "               [1.1*obs_pct_diff, 175])"
   ]
  },
  {
   "cell_type": "code",
   "execution_count": 94,
   "id": "74cc47c5",
   "metadata": {},
   "outputs": [
    {
     "data": {
      "text/plain": [
       "0.0"
      ]
     },
     "execution_count": 94,
     "metadata": {},
     "output_type": "execute_result"
    }
   ],
   "source": [
    "np.mean([diff > obs_pct_diff for diff in pt_diffs])"
   ]
  },
  {
   "cell_type": "code",
   "execution_count": 95,
   "id": "01e07314",
   "metadata": {},
   "outputs": [
    {
     "data": {
      "text/plain": [
       "1.0538330348490972e-10"
      ]
     },
     "execution_count": 95,
     "metadata": {},
     "output_type": "execute_result"
    }
   ],
   "source": [
    "calc_pVal(trunc_conv[['wins', 'conversions']])"
   ]
  }
 ],
 "metadata": {
  "kernelspec": {
   "display_name": "Python 3 (ipykernel)",
   "language": "python",
   "name": "python3"
  },
  "language_info": {
   "codemirror_mode": {
    "name": "ipython",
    "version": 3
   },
   "file_extension": ".py",
   "mimetype": "text/x-python",
   "name": "python",
   "nbconvert_exporter": "python",
   "pygments_lexer": "ipython3",
   "version": "3.8.12"
  }
 },
 "nbformat": 4,
 "nbformat_minor": 5
}
