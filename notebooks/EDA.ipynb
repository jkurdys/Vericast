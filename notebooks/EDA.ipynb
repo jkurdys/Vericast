{
 "cells": [
  {
   "cell_type": "code",
   "execution_count": 2,
   "id": "dca690f6",
   "metadata": {},
   "outputs": [],
   "source": [
    "import json\n",
    "import random\n",
    "\n",
    "import numpy as np\n",
    "import pandas as pd\n",
    "import scipy.stats as scs\n",
    "\n",
    "import matplotlib.pyplot as plt\n",
    "import seaborn as sns"
   ]
  },
  {
   "cell_type": "code",
   "execution_count": 3,
   "id": "cad828cf",
   "metadata": {},
   "outputs": [],
   "source": [
    "bids = pd.read_csv('../data/bid_requests.csv')\n",
    "users = pd.read_csv('../data/user_attributes.csv')"
   ]
  },
  {
   "cell_type": "code",
   "execution_count": 4,
   "id": "89325b3c",
   "metadata": {},
   "outputs": [
    {
     "name": "stdout",
     "output_type": "stream",
     "text": [
      "<class 'pandas.core.frame.DataFrame'>\n",
      "RangeIndex: 600000 entries, 0 to 599999\n",
      "Data columns (total 5 columns):\n",
      " #   Column      Non-Null Count   Dtype \n",
      "---  ------      --------------   ----- \n",
      " 0   timestamp   600000 non-null  object\n",
      " 1   user_id     600000 non-null  object\n",
      " 2   bid         600000 non-null  int64 \n",
      " 3   win         600000 non-null  int64 \n",
      " 4   conversion  600000 non-null  int64 \n",
      "dtypes: int64(3), object(2)\n",
      "memory usage: 22.9+ MB\n"
     ]
    }
   ],
   "source": [
    "bids.info()"
   ]
  },
  {
   "cell_type": "code",
   "execution_count": 5,
   "id": "dbe58b78",
   "metadata": {},
   "outputs": [
    {
     "data": {
      "text/html": [
       "<div>\n",
       "<style scoped>\n",
       "    .dataframe tbody tr th:only-of-type {\n",
       "        vertical-align: middle;\n",
       "    }\n",
       "\n",
       "    .dataframe tbody tr th {\n",
       "        vertical-align: top;\n",
       "    }\n",
       "\n",
       "    .dataframe thead th {\n",
       "        text-align: right;\n",
       "    }\n",
       "</style>\n",
       "<table border=\"1\" class=\"dataframe\">\n",
       "  <thead>\n",
       "    <tr style=\"text-align: right;\">\n",
       "      <th></th>\n",
       "      <th>timestamp</th>\n",
       "      <th>user_id</th>\n",
       "      <th>bid</th>\n",
       "      <th>win</th>\n",
       "      <th>conversion</th>\n",
       "    </tr>\n",
       "  </thead>\n",
       "  <tbody>\n",
       "    <tr>\n",
       "      <th>0</th>\n",
       "      <td>2017-01-01 00:00:01</td>\n",
       "      <td>be7485be5b6eb3690efcbc9e95e8f15a</td>\n",
       "      <td>0</td>\n",
       "      <td>0</td>\n",
       "      <td>0</td>\n",
       "    </tr>\n",
       "    <tr>\n",
       "      <th>1</th>\n",
       "      <td>2017-01-01 00:00:02</td>\n",
       "      <td>26c5dca2512a4c7fe8810bd04191b1b3</td>\n",
       "      <td>0</td>\n",
       "      <td>0</td>\n",
       "      <td>0</td>\n",
       "    </tr>\n",
       "    <tr>\n",
       "      <th>2</th>\n",
       "      <td>2017-01-01 00:00:05</td>\n",
       "      <td>2121376a323507c01c5e92c39ae8ccd4</td>\n",
       "      <td>0</td>\n",
       "      <td>0</td>\n",
       "      <td>0</td>\n",
       "    </tr>\n",
       "    <tr>\n",
       "      <th>3</th>\n",
       "      <td>2017-01-01 00:00:12</td>\n",
       "      <td>fa6a0925d911185338b0acc93c66dc92</td>\n",
       "      <td>0</td>\n",
       "      <td>0</td>\n",
       "      <td>0</td>\n",
       "    </tr>\n",
       "    <tr>\n",
       "      <th>4</th>\n",
       "      <td>2017-01-01 00:00:13</td>\n",
       "      <td>4299f209da83da82b711f1d631cc607b</td>\n",
       "      <td>1</td>\n",
       "      <td>0</td>\n",
       "      <td>0</td>\n",
       "    </tr>\n",
       "  </tbody>\n",
       "</table>\n",
       "</div>"
      ],
      "text/plain": [
       "             timestamp                           user_id  bid  win  conversion\n",
       "0  2017-01-01 00:00:01  be7485be5b6eb3690efcbc9e95e8f15a    0    0           0\n",
       "1  2017-01-01 00:00:02  26c5dca2512a4c7fe8810bd04191b1b3    0    0           0\n",
       "2  2017-01-01 00:00:05  2121376a323507c01c5e92c39ae8ccd4    0    0           0\n",
       "3  2017-01-01 00:00:12  fa6a0925d911185338b0acc93c66dc92    0    0           0\n",
       "4  2017-01-01 00:00:13  4299f209da83da82b711f1d631cc607b    1    0           0"
      ]
     },
     "execution_count": 5,
     "metadata": {},
     "output_type": "execute_result"
    }
   ],
   "source": [
    "bids.head()"
   ]
  },
  {
   "cell_type": "code",
   "execution_count": 6,
   "id": "5899a104",
   "metadata": {},
   "outputs": [
    {
     "data": {
      "text/html": [
       "<div>\n",
       "<style scoped>\n",
       "    .dataframe tbody tr th:only-of-type {\n",
       "        vertical-align: middle;\n",
       "    }\n",
       "\n",
       "    .dataframe tbody tr th {\n",
       "        vertical-align: top;\n",
       "    }\n",
       "\n",
       "    .dataframe thead th {\n",
       "        text-align: right;\n",
       "    }\n",
       "</style>\n",
       "<table border=\"1\" class=\"dataframe\">\n",
       "  <thead>\n",
       "    <tr style=\"text-align: right;\">\n",
       "      <th></th>\n",
       "      <th>user_id</th>\n",
       "      <th>attributes</th>\n",
       "    </tr>\n",
       "  </thead>\n",
       "  <tbody>\n",
       "    <tr>\n",
       "      <th>0</th>\n",
       "      <td>00003e3b9e5336685200ae85d21b4f5e</td>\n",
       "      <td>{\"age\": 33, \"gender\": \"F\", \"location\": \"FL\", \"...</td>\n",
       "    </tr>\n",
       "    <tr>\n",
       "      <th>1</th>\n",
       "      <td>000053b1e684c9e7ea73727b2238ce18</td>\n",
       "      <td>{\"age\": 26, \"gender\": \"M\", \"location\": \"AL\", \"...</td>\n",
       "    </tr>\n",
       "    <tr>\n",
       "      <th>2</th>\n",
       "      <td>00029153d12ae1c9abe59c17ff2e0895</td>\n",
       "      <td>{\"age\": 29, \"gender\": \"F\", \"location\": \"AR\", \"...</td>\n",
       "    </tr>\n",
       "    <tr>\n",
       "      <th>3</th>\n",
       "      <td>0002ac0d783338cfeab0b2bdbd872cda</td>\n",
       "      <td>{\"age\": 29, \"gender\": \"M\", \"location\": \"SC\", \"...</td>\n",
       "    </tr>\n",
       "    <tr>\n",
       "      <th>4</th>\n",
       "      <td>0004d0b59e19461ff126e3a08a814c33</td>\n",
       "      <td>{\"age\": 27, \"gender\": \"F\", \"location\": \"AR\", \"...</td>\n",
       "    </tr>\n",
       "  </tbody>\n",
       "</table>\n",
       "</div>"
      ],
      "text/plain": [
       "                            user_id  \\\n",
       "0  00003e3b9e5336685200ae85d21b4f5e   \n",
       "1  000053b1e684c9e7ea73727b2238ce18   \n",
       "2  00029153d12ae1c9abe59c17ff2e0895   \n",
       "3  0002ac0d783338cfeab0b2bdbd872cda   \n",
       "4  0004d0b59e19461ff126e3a08a814c33   \n",
       "\n",
       "                                          attributes  \n",
       "0  {\"age\": 33, \"gender\": \"F\", \"location\": \"FL\", \"...  \n",
       "1  {\"age\": 26, \"gender\": \"M\", \"location\": \"AL\", \"...  \n",
       "2  {\"age\": 29, \"gender\": \"F\", \"location\": \"AR\", \"...  \n",
       "3  {\"age\": 29, \"gender\": \"M\", \"location\": \"SC\", \"...  \n",
       "4  {\"age\": 27, \"gender\": \"F\", \"location\": \"AR\", \"...  "
      ]
     },
     "execution_count": 6,
     "metadata": {},
     "output_type": "execute_result"
    }
   ],
   "source": [
    "users.head()"
   ]
  },
  {
   "cell_type": "code",
   "execution_count": 7,
   "id": "69d1c5d8",
   "metadata": {},
   "outputs": [],
   "source": [
    "txt = users.attributes[1]"
   ]
  },
  {
   "cell_type": "code",
   "execution_count": 8,
   "id": "52cd3bb4",
   "metadata": {},
   "outputs": [],
   "source": [
    "dic = json.loads(txt)"
   ]
  },
  {
   "cell_type": "code",
   "execution_count": 9,
   "id": "d28320ce",
   "metadata": {},
   "outputs": [],
   "source": [
    "atts = pd.DataFrame(columns=['age', 'gender', 'location', 'test'])"
   ]
  },
  {
   "cell_type": "markdown",
   "id": "5d5ce149",
   "metadata": {},
   "source": [
    "In the interest of time, I've commented out the next two cells:\n",
    "* the first cell creates a dataframe from the attributes textblob in the users dataframe. That process is extremely slow\n",
    "* in the following cell, I save that attributes dataframe as a csv, so we can just read it in whenever we re-run the notebook\n",
    "\n",
    "Of course, if you have time on your hands, or a GPU, I invite you to uncomment out the next cell and run it at your discretion."
   ]
  },
  {
   "cell_type": "code",
   "execution_count": 10,
   "id": "3795a5eb",
   "metadata": {},
   "outputs": [],
   "source": [
    "# for i in range(len(users.attributes)):\n",
    "#     dic = json.loads(users.attributes[i])\n",
    "    \n",
    "#     for k in dic:\n",
    "#         dic[k] = [dic[k]]\n",
    "        \n",
    "#     df = pd.DataFrame.from_dict(dic)\n",
    "    \n",
    "#     atts = atts.append(df, ignore_index=True)\n",
    "    \n",
    "        "
   ]
  },
  {
   "cell_type": "code",
   "execution_count": 11,
   "id": "42712f51",
   "metadata": {},
   "outputs": [],
   "source": [
    "# atts.to_csv('../data/atts.csv', index=False)"
   ]
  },
  {
   "cell_type": "code",
   "execution_count": 12,
   "id": "57eda569",
   "metadata": {},
   "outputs": [],
   "source": [
    "atts = pd.read_csv('../data/atts.csv')"
   ]
  },
  {
   "cell_type": "code",
   "execution_count": 13,
   "id": "4ede8901",
   "metadata": {},
   "outputs": [
    {
     "name": "stdout",
     "output_type": "stream",
     "text": [
      "<class 'pandas.core.frame.DataFrame'>\n",
      "RangeIndex: 100000 entries, 0 to 99999\n",
      "Data columns (total 4 columns):\n",
      " #   Column    Non-Null Count   Dtype \n",
      "---  ------    --------------   ----- \n",
      " 0   age       100000 non-null  int64 \n",
      " 1   gender    100000 non-null  object\n",
      " 2   location  100000 non-null  object\n",
      " 3   test      100000 non-null  int64 \n",
      "dtypes: int64(2), object(2)\n",
      "memory usage: 3.1+ MB\n"
     ]
    }
   ],
   "source": [
    "atts.info()"
   ]
  },
  {
   "cell_type": "code",
   "execution_count": 14,
   "id": "ca41151b",
   "metadata": {},
   "outputs": [
    {
     "data": {
      "text/plain": [
       "['user_id', 'age', 'gender', 'location', 'test']"
      ]
     },
     "execution_count": 14,
     "metadata": {},
     "output_type": "execute_result"
    }
   ],
   "source": [
    "cols = atts.columns.to_list()\n",
    "cols.insert(0, 'user_id')\n",
    "cols"
   ]
  },
  {
   "cell_type": "code",
   "execution_count": 15,
   "id": "3e19fff8",
   "metadata": {},
   "outputs": [],
   "source": [
    "atts['user_id'] = users['user_id']"
   ]
  },
  {
   "cell_type": "code",
   "execution_count": 16,
   "id": "976c2013",
   "metadata": {},
   "outputs": [],
   "source": [
    "atts = atts[cols]"
   ]
  },
  {
   "cell_type": "code",
   "execution_count": 17,
   "id": "dcae7a94",
   "metadata": {},
   "outputs": [
    {
     "name": "stdout",
     "output_type": "stream",
     "text": [
      "<class 'pandas.core.frame.DataFrame'>\n",
      "RangeIndex: 100000 entries, 0 to 99999\n",
      "Data columns (total 5 columns):\n",
      " #   Column    Non-Null Count   Dtype \n",
      "---  ------    --------------   ----- \n",
      " 0   user_id   100000 non-null  object\n",
      " 1   age       100000 non-null  int64 \n",
      " 2   gender    100000 non-null  object\n",
      " 3   location  100000 non-null  object\n",
      " 4   test      100000 non-null  int64 \n",
      "dtypes: int64(2), object(3)\n",
      "memory usage: 3.8+ MB\n"
     ]
    }
   ],
   "source": [
    "atts.info()"
   ]
  },
  {
   "cell_type": "code",
   "execution_count": 18,
   "id": "cfe90d68",
   "metadata": {},
   "outputs": [
    {
     "data": {
      "text/plain": [
       "True"
      ]
     },
     "execution_count": 18,
     "metadata": {},
     "output_type": "execute_result"
    }
   ],
   "source": [
    "atts.user_id[0] == users.user_id[0]"
   ]
  },
  {
   "cell_type": "code",
   "execution_count": 19,
   "id": "69b8f602",
   "metadata": {},
   "outputs": [
    {
     "data": {
      "text/html": [
       "<div>\n",
       "<style scoped>\n",
       "    .dataframe tbody tr th:only-of-type {\n",
       "        vertical-align: middle;\n",
       "    }\n",
       "\n",
       "    .dataframe tbody tr th {\n",
       "        vertical-align: top;\n",
       "    }\n",
       "\n",
       "    .dataframe thead th {\n",
       "        text-align: right;\n",
       "    }\n",
       "</style>\n",
       "<table border=\"1\" class=\"dataframe\">\n",
       "  <thead>\n",
       "    <tr style=\"text-align: right;\">\n",
       "      <th></th>\n",
       "      <th>user_id</th>\n",
       "      <th>age</th>\n",
       "      <th>gender</th>\n",
       "      <th>location</th>\n",
       "      <th>test</th>\n",
       "    </tr>\n",
       "  </thead>\n",
       "  <tbody>\n",
       "    <tr>\n",
       "      <th>0</th>\n",
       "      <td>00003e3b9e5336685200ae85d21b4f5e</td>\n",
       "      <td>33</td>\n",
       "      <td>F</td>\n",
       "      <td>FL</td>\n",
       "      <td>1</td>\n",
       "    </tr>\n",
       "    <tr>\n",
       "      <th>1</th>\n",
       "      <td>000053b1e684c9e7ea73727b2238ce18</td>\n",
       "      <td>26</td>\n",
       "      <td>M</td>\n",
       "      <td>AL</td>\n",
       "      <td>1</td>\n",
       "    </tr>\n",
       "    <tr>\n",
       "      <th>2</th>\n",
       "      <td>00029153d12ae1c9abe59c17ff2e0895</td>\n",
       "      <td>29</td>\n",
       "      <td>F</td>\n",
       "      <td>AR</td>\n",
       "      <td>1</td>\n",
       "    </tr>\n",
       "    <tr>\n",
       "      <th>3</th>\n",
       "      <td>0002ac0d783338cfeab0b2bdbd872cda</td>\n",
       "      <td>29</td>\n",
       "      <td>M</td>\n",
       "      <td>SC</td>\n",
       "      <td>0</td>\n",
       "    </tr>\n",
       "    <tr>\n",
       "      <th>4</th>\n",
       "      <td>0004d0b59e19461ff126e3a08a814c33</td>\n",
       "      <td>27</td>\n",
       "      <td>F</td>\n",
       "      <td>AR</td>\n",
       "      <td>1</td>\n",
       "    </tr>\n",
       "  </tbody>\n",
       "</table>\n",
       "</div>"
      ],
      "text/plain": [
       "                            user_id  age gender location  test\n",
       "0  00003e3b9e5336685200ae85d21b4f5e   33      F       FL     1\n",
       "1  000053b1e684c9e7ea73727b2238ce18   26      M       AL     1\n",
       "2  00029153d12ae1c9abe59c17ff2e0895   29      F       AR     1\n",
       "3  0002ac0d783338cfeab0b2bdbd872cda   29      M       SC     0\n",
       "4  0004d0b59e19461ff126e3a08a814c33   27      F       AR     1"
      ]
     },
     "execution_count": 19,
     "metadata": {},
     "output_type": "execute_result"
    }
   ],
   "source": [
    "atts.head()"
   ]
  },
  {
   "cell_type": "code",
   "execution_count": 20,
   "id": "fce3436e",
   "metadata": {},
   "outputs": [
    {
     "data": {
      "text/html": [
       "<div>\n",
       "<style scoped>\n",
       "    .dataframe tbody tr th:only-of-type {\n",
       "        vertical-align: middle;\n",
       "    }\n",
       "\n",
       "    .dataframe tbody tr th {\n",
       "        vertical-align: top;\n",
       "    }\n",
       "\n",
       "    .dataframe thead th {\n",
       "        text-align: right;\n",
       "    }\n",
       "</style>\n",
       "<table border=\"1\" class=\"dataframe\">\n",
       "  <thead>\n",
       "    <tr style=\"text-align: right;\">\n",
       "      <th></th>\n",
       "      <th>user_id</th>\n",
       "      <th>attributes</th>\n",
       "    </tr>\n",
       "  </thead>\n",
       "  <tbody>\n",
       "    <tr>\n",
       "      <th>0</th>\n",
       "      <td>00003e3b9e5336685200ae85d21b4f5e</td>\n",
       "      <td>{\"age\": 33, \"gender\": \"F\", \"location\": \"FL\", \"...</td>\n",
       "    </tr>\n",
       "    <tr>\n",
       "      <th>1</th>\n",
       "      <td>000053b1e684c9e7ea73727b2238ce18</td>\n",
       "      <td>{\"age\": 26, \"gender\": \"M\", \"location\": \"AL\", \"...</td>\n",
       "    </tr>\n",
       "    <tr>\n",
       "      <th>2</th>\n",
       "      <td>00029153d12ae1c9abe59c17ff2e0895</td>\n",
       "      <td>{\"age\": 29, \"gender\": \"F\", \"location\": \"AR\", \"...</td>\n",
       "    </tr>\n",
       "    <tr>\n",
       "      <th>3</th>\n",
       "      <td>0002ac0d783338cfeab0b2bdbd872cda</td>\n",
       "      <td>{\"age\": 29, \"gender\": \"M\", \"location\": \"SC\", \"...</td>\n",
       "    </tr>\n",
       "    <tr>\n",
       "      <th>4</th>\n",
       "      <td>0004d0b59e19461ff126e3a08a814c33</td>\n",
       "      <td>{\"age\": 27, \"gender\": \"F\", \"location\": \"AR\", \"...</td>\n",
       "    </tr>\n",
       "  </tbody>\n",
       "</table>\n",
       "</div>"
      ],
      "text/plain": [
       "                            user_id  \\\n",
       "0  00003e3b9e5336685200ae85d21b4f5e   \n",
       "1  000053b1e684c9e7ea73727b2238ce18   \n",
       "2  00029153d12ae1c9abe59c17ff2e0895   \n",
       "3  0002ac0d783338cfeab0b2bdbd872cda   \n",
       "4  0004d0b59e19461ff126e3a08a814c33   \n",
       "\n",
       "                                          attributes  \n",
       "0  {\"age\": 33, \"gender\": \"F\", \"location\": \"FL\", \"...  \n",
       "1  {\"age\": 26, \"gender\": \"M\", \"location\": \"AL\", \"...  \n",
       "2  {\"age\": 29, \"gender\": \"F\", \"location\": \"AR\", \"...  \n",
       "3  {\"age\": 29, \"gender\": \"M\", \"location\": \"SC\", \"...  \n",
       "4  {\"age\": 27, \"gender\": \"F\", \"location\": \"AR\", \"...  "
      ]
     },
     "execution_count": 20,
     "metadata": {},
     "output_type": "execute_result"
    }
   ],
   "source": [
    "users.head()"
   ]
  },
  {
   "cell_type": "code",
   "execution_count": 21,
   "id": "435e5997",
   "metadata": {},
   "outputs": [],
   "source": [
    "control = atts[atts['test']==0]\n",
    "test = atts[atts['test']==1]"
   ]
  },
  {
   "cell_type": "code",
   "execution_count": 22,
   "id": "1c1a0440",
   "metadata": {},
   "outputs": [
    {
     "name": "stdout",
     "output_type": "stream",
     "text": [
      "<class 'pandas.core.frame.DataFrame'>\n",
      "Int64Index: 43916 entries, 3 to 99997\n",
      "Data columns (total 5 columns):\n",
      " #   Column    Non-Null Count  Dtype \n",
      "---  ------    --------------  ----- \n",
      " 0   user_id   43916 non-null  object\n",
      " 1   age       43916 non-null  int64 \n",
      " 2   gender    43916 non-null  object\n",
      " 3   location  43916 non-null  object\n",
      " 4   test      43916 non-null  int64 \n",
      "dtypes: int64(2), object(3)\n",
      "memory usage: 2.0+ MB\n"
     ]
    }
   ],
   "source": [
    "control.info()"
   ]
  },
  {
   "cell_type": "code",
   "execution_count": 23,
   "id": "0f76ca05",
   "metadata": {},
   "outputs": [
    {
     "name": "stdout",
     "output_type": "stream",
     "text": [
      "<class 'pandas.core.frame.DataFrame'>\n",
      "Int64Index: 56084 entries, 0 to 99999\n",
      "Data columns (total 5 columns):\n",
      " #   Column    Non-Null Count  Dtype \n",
      "---  ------    --------------  ----- \n",
      " 0   user_id   56084 non-null  object\n",
      " 1   age       56084 non-null  int64 \n",
      " 2   gender    56084 non-null  object\n",
      " 3   location  56084 non-null  object\n",
      " 4   test      56084 non-null  int64 \n",
      "dtypes: int64(2), object(3)\n",
      "memory usage: 2.6+ MB\n"
     ]
    }
   ],
   "source": [
    "test.info()"
   ]
  },
  {
   "cell_type": "code",
   "execution_count": 67,
   "id": "0f9606a1",
   "metadata": {},
   "outputs": [],
   "source": [
    "labels = list(set(control.location.values))\n",
    "labels.sort()\n",
    "clocs = control.location.value_counts().sort_index().values\n",
    "tlocs = test.location.value_counts().sort_index().values\n",
    "\n",
    "x = np.arange(len(labels))\n",
    "width = 0.35"
   ]
  },
  {
   "cell_type": "code",
   "execution_count": 64,
   "id": "f6d46c4c",
   "metadata": {},
   "outputs": [],
   "source": [
    "labels = list(set(control.location.values))"
   ]
  },
  {
   "cell_type": "code",
   "execution_count": 66,
   "id": "c5277df3",
   "metadata": {},
   "outputs": [
    {
     "data": {
      "text/plain": [
       "['AL', 'AR', 'FL', 'GA', 'KY', 'LA', 'MS', 'NC', 'SC', 'TN', 'VA']"
      ]
     },
     "execution_count": 66,
     "metadata": {},
     "output_type": "execute_result"
    }
   ],
   "source": [
    "labels"
   ]
  },
  {
   "cell_type": "code",
   "execution_count": 73,
   "id": "626b8def",
   "metadata": {},
   "outputs": [
    {
     "ename": "TypeError",
     "evalue": "set_ticks() takes 2 positional arguments but 3 were given",
     "output_type": "error",
     "traceback": [
      "\u001b[0;31m---------------------------------------------------------------------------\u001b[0m",
      "\u001b[0;31mTypeError\u001b[0m                                 Traceback (most recent call last)",
      "\u001b[0;32m/var/folders/bq/4bg940f96gl39rfsf7jr9b9c0000gn/T/ipykernel_2351/1556758822.py\u001b[0m in \u001b[0;36m<module>\u001b[0;34m\u001b[0m\n\u001b[1;32m      6\u001b[0m \u001b[0max\u001b[0m\u001b[0;34m.\u001b[0m\u001b[0mset_ylabel\u001b[0m\u001b[0;34m(\u001b[0m\u001b[0;34m'User Count'\u001b[0m\u001b[0;34m)\u001b[0m\u001b[0;34m\u001b[0m\u001b[0;34m\u001b[0m\u001b[0m\n\u001b[1;32m      7\u001b[0m \u001b[0max\u001b[0m\u001b[0;34m.\u001b[0m\u001b[0mset_title\u001b[0m\u001b[0;34m(\u001b[0m\u001b[0;34m'User Counts by State'\u001b[0m\u001b[0;34m)\u001b[0m\u001b[0;34m\u001b[0m\u001b[0;34m\u001b[0m\u001b[0m\n\u001b[0;32m----> 8\u001b[0;31m \u001b[0max\u001b[0m\u001b[0;34m.\u001b[0m\u001b[0mset_xticks\u001b[0m\u001b[0;34m(\u001b[0m\u001b[0mx\u001b[0m\u001b[0;34m,\u001b[0m \u001b[0mlabels\u001b[0m\u001b[0;34m)\u001b[0m\u001b[0;34m\u001b[0m\u001b[0;34m\u001b[0m\u001b[0m\n\u001b[0m\u001b[1;32m      9\u001b[0m \u001b[0max\u001b[0m\u001b[0;34m.\u001b[0m\u001b[0mset_xlabel\u001b[0m\u001b[0;34m(\u001b[0m\u001b[0;34m'State'\u001b[0m\u001b[0;34m)\u001b[0m\u001b[0;34m\u001b[0m\u001b[0;34m\u001b[0m\u001b[0m\n\u001b[1;32m     10\u001b[0m \u001b[0max\u001b[0m\u001b[0;34m.\u001b[0m\u001b[0mlegend\u001b[0m\u001b[0;34m(\u001b[0m\u001b[0;34m)\u001b[0m\u001b[0;34m\u001b[0m\u001b[0;34m\u001b[0m\u001b[0m\n",
      "\u001b[0;32m~/anaconda3/lib/python3.8/site-packages/matplotlib/axes/_base.py\u001b[0m in \u001b[0;36mwrapper\u001b[0;34m(self, *args, **kwargs)\u001b[0m\n\u001b[1;32m     71\u001b[0m \u001b[0;34m\u001b[0m\u001b[0m\n\u001b[1;32m     72\u001b[0m         \u001b[0;32mdef\u001b[0m \u001b[0mwrapper\u001b[0m\u001b[0;34m(\u001b[0m\u001b[0mself\u001b[0m\u001b[0;34m,\u001b[0m \u001b[0;34m*\u001b[0m\u001b[0margs\u001b[0m\u001b[0;34m,\u001b[0m \u001b[0;34m**\u001b[0m\u001b[0mkwargs\u001b[0m\u001b[0;34m)\u001b[0m\u001b[0;34m:\u001b[0m\u001b[0;34m\u001b[0m\u001b[0;34m\u001b[0m\u001b[0m\n\u001b[0;32m---> 73\u001b[0;31m             \u001b[0;32mreturn\u001b[0m \u001b[0mget_method\u001b[0m\u001b[0;34m(\u001b[0m\u001b[0mself\u001b[0m\u001b[0;34m)\u001b[0m\u001b[0;34m(\u001b[0m\u001b[0;34m*\u001b[0m\u001b[0margs\u001b[0m\u001b[0;34m,\u001b[0m \u001b[0;34m**\u001b[0m\u001b[0mkwargs\u001b[0m\u001b[0;34m)\u001b[0m\u001b[0;34m\u001b[0m\u001b[0;34m\u001b[0m\u001b[0m\n\u001b[0m\u001b[1;32m     74\u001b[0m \u001b[0;34m\u001b[0m\u001b[0m\n\u001b[1;32m     75\u001b[0m         \u001b[0mwrapper\u001b[0m\u001b[0;34m.\u001b[0m\u001b[0m__module__\u001b[0m \u001b[0;34m=\u001b[0m \u001b[0mowner\u001b[0m\u001b[0;34m.\u001b[0m\u001b[0m__module__\u001b[0m\u001b[0;34m\u001b[0m\u001b[0;34m\u001b[0m\u001b[0m\n",
      "\u001b[0;31mTypeError\u001b[0m: set_ticks() takes 2 positional arguments but 3 were given"
     ]
    },
    {
     "data": {
      "image/png": "[encoded data removed]",
      "text/plain": [
       "<Figure size 864x432 with 1 Axes>"
      ]
     },
     "metadata": {
      "needs_background": "light"
     },
     "output_type": "display_data"
    }
   ],
   "source": [
    "fig, ax = plt.subplots(figsize=(12, 6))\n",
    "rects1 = ax.bar(x - width/2, clocs, width, label='Control')\n",
    "rects2 = ax.bar(x + width/2, tlocs, width, label='Test')\n",
    "\n",
    "# Add some text for labels, title and custom x-axis tick labels, etc.\n",
    "ax.set_ylabel('User Count')\n",
    "ax.set_title('User Counts by State')\n",
    "ax.set_xticks(x, labels)\n",
    "ax.set_xlabel('State')\n",
    "ax.legend()\n",
    "\n",
    "ax.bar_label(rects1, padding=3)\n",
    "ax.bar_label(rects2, padding=3)\n",
    "\n",
    "fig.tight_layout()\n",
    "\n",
    "plt.show()"
   ]
  },
  {
   "cell_type": "code",
   "execution_count": 30,
   "id": "dc2a8b7f",
   "metadata": {},
   "outputs": [
    {
     "data": {
      "image/png": "[encoded data removed]",
      "text/plain": [
       "<Figure size 864x432 with 2 Axes>"
      ]
     },
     "metadata": {
      "needs_background": "light"
     },
     "output_type": "display_data"
    }
   ],
   "source": [
    "fig, ax=plt.subplots(2, 1,  figsize=(12, 6))\n",
    "\n",
    "sns.countplot(x=control['location'],\n",
    "              order= control['location'].value_counts().index,\n",
    "              ax=ax[0])\n",
    "# ax[0].set_title(\"Top 5 Stations by Count of Trips Started\")\n",
    "ax[0].set_xlabel('State')\n",
    "ax[0].set_ylabel('Control User Count')\n",
    "\n",
    "sns.countplot(x=test['location'],\n",
    "              order= test['location'].value_counts().index,\n",
    "              ax=ax[1])\n",
    "# ax[1].set_title(\"Bottom 5 Stations by Count of Trips Started\")\n",
    "ax[1].set_xlabel('State')\n",
    "ax[1].set_ylabel('Test User Count')\n",
    "\n",
    "plt.suptitle('User Counts by State', fontsize=14)\n",
    "\n",
    "fig.tight_layout();"
   ]
  },
  {
   "cell_type": "code",
   "execution_count": 23,
   "id": "b12454b0",
   "metadata": {},
   "outputs": [
    {
     "data": {
      "image/png": "[encoded data removed]",
      "text/plain": [
       "<Figure size 432x288 with 1 Axes>"
      ]
     },
     "metadata": {
      "needs_background": "light"
     },
     "output_type": "display_data"
    }
   ],
   "source": [
    "control.location.hist();"
   ]
  },
  {
   "cell_type": "code",
   "execution_count": 24,
   "id": "12d2ee77",
   "metadata": {},
   "outputs": [
    {
     "data": {
      "image/png": "[encoded data removed]",
      "text/plain": [
       "<Figure size 432x288 with 1 Axes>"
      ]
     },
     "metadata": {
      "needs_background": "light"
     },
     "output_type": "display_data"
    }
   ],
   "source": [
    "test.location.hist();"
   ]
  },
  {
   "cell_type": "code",
   "execution_count": 25,
   "id": "40cf4e71",
   "metadata": {},
   "outputs": [
    {
     "data": {
      "image/png": "[encoded data removed]",
      "text/plain": [
       "<Figure size 432x288 with 1 Axes>"
      ]
     },
     "metadata": {
      "needs_background": "light"
     },
     "output_type": "display_data"
    }
   ],
   "source": [
    "control.age.hist();"
   ]
  },
  {
   "cell_type": "code",
   "execution_count": 26,
   "id": "0e91edd2",
   "metadata": {},
   "outputs": [
    {
     "data": {
      "image/png": "[encoded data removed]",
      "text/plain": [
       "<Figure size 432x288 with 1 Axes>"
      ]
     },
     "metadata": {
      "needs_background": "light"
     },
     "output_type": "display_data"
    }
   ],
   "source": [
    "test.age.hist();"
   ]
  },
  {
   "cell_type": "code",
   "execution_count": 27,
   "id": "4100e1c1",
   "metadata": {},
   "outputs": [
    {
     "data": {
      "text/plain": [
       "M    22101\n",
       "F    21815\n",
       "Name: gender, dtype: int64"
      ]
     },
     "execution_count": 27,
     "metadata": {},
     "output_type": "execute_result"
    }
   ],
   "source": [
    "control.gender.value_counts()"
   ]
  },
  {
   "cell_type": "code",
   "execution_count": 28,
   "id": "d382a236",
   "metadata": {},
   "outputs": [
    {
     "data": {
      "text/plain": [
       "F    28108\n",
       "M    27976\n",
       "Name: gender, dtype: int64"
      ]
     },
     "execution_count": 28,
     "metadata": {},
     "output_type": "execute_result"
    }
   ],
   "source": [
    "test.gender.value_counts()"
   ]
  },
  {
   "cell_type": "code",
   "execution_count": 29,
   "id": "640cd689",
   "metadata": {},
   "outputs": [],
   "source": [
    "control_bids = bids[bids['user_id'].isin(control.user_id.values)]"
   ]
  },
  {
   "cell_type": "code",
   "execution_count": 30,
   "id": "c0bc247d",
   "metadata": {},
   "outputs": [],
   "source": [
    "test_bids = bids[bids['user_id'].isin(test.user_id.values)]"
   ]
  },
  {
   "cell_type": "code",
   "execution_count": 31,
   "id": "ddc8da55",
   "metadata": {},
   "outputs": [
    {
     "data": {
      "text/html": [
       "<div>\n",
       "<style scoped>\n",
       "    .dataframe tbody tr th:only-of-type {\n",
       "        vertical-align: middle;\n",
       "    }\n",
       "\n",
       "    .dataframe tbody tr th {\n",
       "        vertical-align: top;\n",
       "    }\n",
       "\n",
       "    .dataframe thead th {\n",
       "        text-align: right;\n",
       "    }\n",
       "</style>\n",
       "<table border=\"1\" class=\"dataframe\">\n",
       "  <thead>\n",
       "    <tr style=\"text-align: right;\">\n",
       "      <th></th>\n",
       "      <th>bid</th>\n",
       "      <th>win</th>\n",
       "      <th>conversion</th>\n",
       "    </tr>\n",
       "  </thead>\n",
       "  <tbody>\n",
       "    <tr>\n",
       "      <th>count</th>\n",
       "      <td>262107.000000</td>\n",
       "      <td>262107.000000</td>\n",
       "      <td>262107.000000</td>\n",
       "    </tr>\n",
       "    <tr>\n",
       "      <th>mean</th>\n",
       "      <td>0.499777</td>\n",
       "      <td>0.250142</td>\n",
       "      <td>0.010389</td>\n",
       "    </tr>\n",
       "    <tr>\n",
       "      <th>std</th>\n",
       "      <td>0.500001</td>\n",
       "      <td>0.433096</td>\n",
       "      <td>0.101395</td>\n",
       "    </tr>\n",
       "    <tr>\n",
       "      <th>min</th>\n",
       "      <td>0.000000</td>\n",
       "      <td>0.000000</td>\n",
       "      <td>0.000000</td>\n",
       "    </tr>\n",
       "    <tr>\n",
       "      <th>25%</th>\n",
       "      <td>0.000000</td>\n",
       "      <td>0.000000</td>\n",
       "      <td>0.000000</td>\n",
       "    </tr>\n",
       "    <tr>\n",
       "      <th>50%</th>\n",
       "      <td>0.000000</td>\n",
       "      <td>0.000000</td>\n",
       "      <td>0.000000</td>\n",
       "    </tr>\n",
       "    <tr>\n",
       "      <th>75%</th>\n",
       "      <td>1.000000</td>\n",
       "      <td>1.000000</td>\n",
       "      <td>0.000000</td>\n",
       "    </tr>\n",
       "    <tr>\n",
       "      <th>max</th>\n",
       "      <td>1.000000</td>\n",
       "      <td>1.000000</td>\n",
       "      <td>1.000000</td>\n",
       "    </tr>\n",
       "  </tbody>\n",
       "</table>\n",
       "</div>"
      ],
      "text/plain": [
       "                 bid            win     conversion\n",
       "count  262107.000000  262107.000000  262107.000000\n",
       "mean        0.499777       0.250142       0.010389\n",
       "std         0.500001       0.433096       0.101395\n",
       "min         0.000000       0.000000       0.000000\n",
       "25%         0.000000       0.000000       0.000000\n",
       "50%         0.000000       0.000000       0.000000\n",
       "75%         1.000000       1.000000       0.000000\n",
       "max         1.000000       1.000000       1.000000"
      ]
     },
     "execution_count": 31,
     "metadata": {},
     "output_type": "execute_result"
    }
   ],
   "source": [
    "control_bids.describe()"
   ]
  },
  {
   "cell_type": "code",
   "execution_count": 32,
   "id": "9b16cd82",
   "metadata": {},
   "outputs": [
    {
     "data": {
      "text/html": [
       "<div>\n",
       "<style scoped>\n",
       "    .dataframe tbody tr th:only-of-type {\n",
       "        vertical-align: middle;\n",
       "    }\n",
       "\n",
       "    .dataframe tbody tr th {\n",
       "        vertical-align: top;\n",
       "    }\n",
       "\n",
       "    .dataframe thead th {\n",
       "        text-align: right;\n",
       "    }\n",
       "</style>\n",
       "<table border=\"1\" class=\"dataframe\">\n",
       "  <thead>\n",
       "    <tr style=\"text-align: right;\">\n",
       "      <th></th>\n",
       "      <th>bid</th>\n",
       "      <th>win</th>\n",
       "      <th>conversion</th>\n",
       "    </tr>\n",
       "  </thead>\n",
       "  <tbody>\n",
       "    <tr>\n",
       "      <th>count</th>\n",
       "      <td>337893.000000</td>\n",
       "      <td>337893.000000</td>\n",
       "      <td>337893.000000</td>\n",
       "    </tr>\n",
       "    <tr>\n",
       "      <th>mean</th>\n",
       "      <td>0.499703</td>\n",
       "      <td>0.250360</td>\n",
       "      <td>0.010039</td>\n",
       "    </tr>\n",
       "    <tr>\n",
       "      <th>std</th>\n",
       "      <td>0.500001</td>\n",
       "      <td>0.433221</td>\n",
       "      <td>0.099689</td>\n",
       "    </tr>\n",
       "    <tr>\n",
       "      <th>min</th>\n",
       "      <td>0.000000</td>\n",
       "      <td>0.000000</td>\n",
       "      <td>0.000000</td>\n",
       "    </tr>\n",
       "    <tr>\n",
       "      <th>25%</th>\n",
       "      <td>0.000000</td>\n",
       "      <td>0.000000</td>\n",
       "      <td>0.000000</td>\n",
       "    </tr>\n",
       "    <tr>\n",
       "      <th>50%</th>\n",
       "      <td>0.000000</td>\n",
       "      <td>0.000000</td>\n",
       "      <td>0.000000</td>\n",
       "    </tr>\n",
       "    <tr>\n",
       "      <th>75%</th>\n",
       "      <td>1.000000</td>\n",
       "      <td>1.000000</td>\n",
       "      <td>0.000000</td>\n",
       "    </tr>\n",
       "    <tr>\n",
       "      <th>max</th>\n",
       "      <td>1.000000</td>\n",
       "      <td>1.000000</td>\n",
       "      <td>1.000000</td>\n",
       "    </tr>\n",
       "  </tbody>\n",
       "</table>\n",
       "</div>"
      ],
      "text/plain": [
       "                 bid            win     conversion\n",
       "count  337893.000000  337893.000000  337893.000000\n",
       "mean        0.499703       0.250360       0.010039\n",
       "std         0.500001       0.433221       0.099689\n",
       "min         0.000000       0.000000       0.000000\n",
       "25%         0.000000       0.000000       0.000000\n",
       "50%         0.000000       0.000000       0.000000\n",
       "75%         1.000000       1.000000       0.000000\n",
       "max         1.000000       1.000000       1.000000"
      ]
     },
     "execution_count": 32,
     "metadata": {},
     "output_type": "execute_result"
    }
   ],
   "source": [
    "test_bids.describe()"
   ]
  },
  {
   "cell_type": "code",
   "execution_count": 33,
   "id": "80a6cdeb",
   "metadata": {},
   "outputs": [
    {
     "data": {
      "text/html": [
       "<div>\n",
       "<style scoped>\n",
       "    .dataframe tbody tr th:only-of-type {\n",
       "        vertical-align: middle;\n",
       "    }\n",
       "\n",
       "    .dataframe tbody tr th {\n",
       "        vertical-align: top;\n",
       "    }\n",
       "\n",
       "    .dataframe thead th {\n",
       "        text-align: right;\n",
       "    }\n",
       "</style>\n",
       "<table border=\"1\" class=\"dataframe\">\n",
       "  <thead>\n",
       "    <tr style=\"text-align: right;\">\n",
       "      <th></th>\n",
       "      <th>bid</th>\n",
       "      <th>win</th>\n",
       "      <th>conversion</th>\n",
       "    </tr>\n",
       "  </thead>\n",
       "  <tbody>\n",
       "    <tr>\n",
       "      <th>count</th>\n",
       "      <td>600000.000000</td>\n",
       "      <td>600000.000000</td>\n",
       "      <td>600000.000000</td>\n",
       "    </tr>\n",
       "    <tr>\n",
       "      <th>mean</th>\n",
       "      <td>0.499735</td>\n",
       "      <td>0.250265</td>\n",
       "      <td>0.010192</td>\n",
       "    </tr>\n",
       "    <tr>\n",
       "      <th>std</th>\n",
       "      <td>0.500000</td>\n",
       "      <td>0.433166</td>\n",
       "      <td>0.100438</td>\n",
       "    </tr>\n",
       "    <tr>\n",
       "      <th>min</th>\n",
       "      <td>0.000000</td>\n",
       "      <td>0.000000</td>\n",
       "      <td>0.000000</td>\n",
       "    </tr>\n",
       "    <tr>\n",
       "      <th>25%</th>\n",
       "      <td>0.000000</td>\n",
       "      <td>0.000000</td>\n",
       "      <td>0.000000</td>\n",
       "    </tr>\n",
       "    <tr>\n",
       "      <th>50%</th>\n",
       "      <td>0.000000</td>\n",
       "      <td>0.000000</td>\n",
       "      <td>0.000000</td>\n",
       "    </tr>\n",
       "    <tr>\n",
       "      <th>75%</th>\n",
       "      <td>1.000000</td>\n",
       "      <td>1.000000</td>\n",
       "      <td>0.000000</td>\n",
       "    </tr>\n",
       "    <tr>\n",
       "      <th>max</th>\n",
       "      <td>1.000000</td>\n",
       "      <td>1.000000</td>\n",
       "      <td>1.000000</td>\n",
       "    </tr>\n",
       "  </tbody>\n",
       "</table>\n",
       "</div>"
      ],
      "text/plain": [
       "                 bid            win     conversion\n",
       "count  600000.000000  600000.000000  600000.000000\n",
       "mean        0.499735       0.250265       0.010192\n",
       "std         0.500000       0.433166       0.100438\n",
       "min         0.000000       0.000000       0.000000\n",
       "25%         0.000000       0.000000       0.000000\n",
       "50%         0.000000       0.000000       0.000000\n",
       "75%         1.000000       1.000000       0.000000\n",
       "max         1.000000       1.000000       1.000000"
      ]
     },
     "execution_count": 33,
     "metadata": {},
     "output_type": "execute_result"
    }
   ],
   "source": [
    "bids.describe()"
   ]
  },
  {
   "cell_type": "code",
   "execution_count": 34,
   "id": "f3bf968a",
   "metadata": {},
   "outputs": [
    {
     "data": {
      "text/plain": [
       "-0.03502060970857768"
      ]
     },
     "execution_count": 34,
     "metadata": {},
     "output_type": "execute_result"
    }
   ],
   "source": [
    "(test_bids.conversion.mean() * 100) - (control_bids.conversion.mean() * 100)"
   ]
  },
  {
   "cell_type": "code",
   "execution_count": 35,
   "id": "6d9966cb",
   "metadata": {},
   "outputs": [
    {
     "data": {
      "text/plain": [
       "0.019722031460434053"
      ]
     },
     "execution_count": 35,
     "metadata": {},
     "output_type": "execute_result"
    }
   ],
   "source": [
    "(control_bids.conversion.mean() * 100) - (bids.conversion.mean() * 100)"
   ]
  },
  {
   "cell_type": "code",
   "execution_count": 36,
   "id": "d4ac248b",
   "metadata": {},
   "outputs": [
    {
     "data": {
      "text/plain": [
       "-0.015298578248143624"
      ]
     },
     "execution_count": 36,
     "metadata": {},
     "output_type": "execute_result"
    }
   ],
   "source": [
    "(test_bids.conversion.mean() * 100) - (bids.conversion.mean() * 100)"
   ]
  },
  {
   "cell_type": "markdown",
   "id": "dcf0b132",
   "metadata": {},
   "source": [
    "# A / B Testing to Evaluate Campaign Performance\n",
    "\n",
    "Comparing the conversion rate (mean conversion value for conversion column) for the control and test groups, we actually see a decline in conversion in the test group, suggesting that the new ad decreases conversion.\n",
    "\n",
    "We can confirm whether this decrease happened by chance or was actually correlated to the new creative design by hypothesis testing our scenario.\n",
    "\n",
    "In this case, the actual A/B test has already effectively been run and we have to evaluate the results of the test by considering campaign performance between the control and test groups.\n",
    "\n",
    "## Experiment Design\n",
    "\n",
    "Normally, such a test would be evaluated in terms of some practical significance boundary determined in consultation with various campaign stakeholders. **Since no practical significance boundary was specified in the assessment prompt, we will assume statistical significance is the practical significance boundary,** meaning that if the difference in conversion rate is statistically significant, this is practically significant for the business.\n",
    "\n",
    "### Sample Size\n",
    "As there are no clear compelling reasons to deviate from conventional assumptions, the test's power and significance levels will follow convention:\n",
    "- power: 80%\n",
    "- significance level: alpha = 0.05 or 5%\n",
    "\n",
    "Additionally, we will adopt conventional sample size calculations to determine if the size of the campaign was sufficient:\n",
    "- `sample size = (16 * (std dev)**2) / (difference between the two groups)**2`"
   ]
  },
  {
   "cell_type": "code",
   "execution_count": 37,
   "id": "3af2fd88",
   "metadata": {},
   "outputs": [
    {
     "data": {
      "text/plain": [
       "1316041.6002101405"
      ]
     },
     "execution_count": 37,
     "metadata": {},
     "output_type": "execute_result"
    }
   ],
   "source": [
    "sample = (16 * bids.conversion.std()**2) /  ((control_bids.conversion.mean()) - (test_bids.conversion.mean()))**2\n",
    "sample"
   ]
  },
  {
   "cell_type": "markdown",
   "id": "386059b5",
   "metadata": {},
   "source": [
    "We've run into a problem: our sample of 600k bids is only about half of the sample we would need to achieve power of 80%. We can go forward with this understanding or revise the test's power to a level that fits with our sample size.\n",
    "\n",
    "## Actually, I'm going to take another stab at this"
   ]
  },
  {
   "cell_type": "markdown",
   "id": "cc4a3c77",
   "metadata": {},
   "source": [
    "# A / B Testing to Evaluate Campaign Performance\n",
    "\n",
    "Comparing the conversion rate (mean conversion value for conversion column) for the control and test groups, we actually see a decline in conversion in the test group, suggesting that the new ad decreases conversion.\n",
    "\n",
    "We can confirm whether this decrease happened by chance or was actually correlated to the new creative design by hypothesis testing our scenario.\n",
    "\n",
    "In this case, the actual A/B test has already effectively been run and we have to evaluate the results of the test by considering campaign performance between the control and test groups.\n",
    "\n",
    "## Experiment Design\n",
    "\n",
    "Normally, such a test would be evaluated in terms of some practical significance boundary determined in consultation with various campaign stakeholders. **Since no practical significance boundary was specified in the assessment prompt, we will assume statistical significance is the practical significance boundary,** meaning that if the difference in conversion rate is statistically significant, this is practically significant for the business.\n",
    "\n",
    "I want to start by looking at these data another way. Instead of starting with conversion rate, as above, I want to look at the raw numbers of visitors, bids and conversions in the control and test groups."
   ]
  },
  {
   "cell_type": "code",
   "execution_count": 38,
   "id": "b6900ddc",
   "metadata": {},
   "outputs": [],
   "source": [
    "data = [[control_bids.bid.sum(),\n",
    "         control_bids.win.sum(),\n",
    "         control_bids.conversion.sum()],\n",
    "        [test_bids.bid.sum(),\n",
    "         test_bids.win.sum(),\n",
    "         test_bids.conversion.sum()]]"
   ]
  },
  {
   "cell_type": "code",
   "execution_count": 39,
   "id": "b3ab0fbb",
   "metadata": {},
   "outputs": [],
   "source": [
    "conv_df = pd.DataFrame(data, index=['control', 'test'], columns=['bids', 'wins', 'conversions'])"
   ]
  },
  {
   "cell_type": "code",
   "execution_count": 40,
   "id": "7abc9a5e",
   "metadata": {},
   "outputs": [
    {
     "data": {
      "text/html": [
       "<div>\n",
       "<style scoped>\n",
       "    .dataframe tbody tr th:only-of-type {\n",
       "        vertical-align: middle;\n",
       "    }\n",
       "\n",
       "    .dataframe tbody tr th {\n",
       "        vertical-align: top;\n",
       "    }\n",
       "\n",
       "    .dataframe thead th {\n",
       "        text-align: right;\n",
       "    }\n",
       "</style>\n",
       "<table border=\"1\" class=\"dataframe\">\n",
       "  <thead>\n",
       "    <tr style=\"text-align: right;\">\n",
       "      <th></th>\n",
       "      <th>bids</th>\n",
       "      <th>wins</th>\n",
       "      <th>conversions</th>\n",
       "    </tr>\n",
       "  </thead>\n",
       "  <tbody>\n",
       "    <tr>\n",
       "      <th>control</th>\n",
       "      <td>130995</td>\n",
       "      <td>65564</td>\n",
       "      <td>2723</td>\n",
       "    </tr>\n",
       "    <tr>\n",
       "      <th>test</th>\n",
       "      <td>168846</td>\n",
       "      <td>84595</td>\n",
       "      <td>3392</td>\n",
       "    </tr>\n",
       "  </tbody>\n",
       "</table>\n",
       "</div>"
      ],
      "text/plain": [
       "           bids   wins  conversions\n",
       "control  130995  65564         2723\n",
       "test     168846  84595         3392"
      ]
     },
     "execution_count": 40,
     "metadata": {},
     "output_type": "execute_result"
    }
   ],
   "source": [
    "conv_df"
   ]
  },
  {
   "cell_type": "code",
   "execution_count": 41,
   "id": "070a4f45",
   "metadata": {},
   "outputs": [],
   "source": [
    "def permutation_test(s, A, B):\n",
    "    n = A + B\n",
    "    iB = set(random.sample(range(n), B))\n",
    "    iA = set(range(n)) - iB\n",
    "    return s.loc[iB].mean() - s.loc[iA].mean()"
   ]
  },
  {
   "cell_type": "code",
   "execution_count": 42,
   "id": "68bf0e1e",
   "metadata": {},
   "outputs": [],
   "source": [
    "def get_pt_diffs(df, resamples=1000):\n",
    "    obs_pct_diff = 100 * (df.iloc[0][1] / df.iloc[0][0] - df.iloc[1][1] / df.iloc[1][0])\n",
    "    conversion = [0] * (sum([df.iloc[0][0], df.iloc[1][0]]) - sum([df.iloc[0][1], df.iloc[1][1]]))\n",
    "    conversion.extend([1] * sum([df.iloc[0][1], df.iloc[1][1]]))\n",
    "    conversion = pd.Series(conversion)\n",
    "\n",
    "    pt_diffs = [100 * permutation_test(conversion, df.iloc[0][0], df.iloc[1][0])\n",
    "                for _ in range(resamples)]\n",
    "    return pt_diffs, obs_pct_diff"
   ]
  },
  {
   "cell_type": "code",
   "execution_count": 43,
   "id": "a0c44171",
   "metadata": {},
   "outputs": [],
   "source": [
    "pt_diffs, obs_pct_diff = get_pt_diffs(conv_df[['bids', 'wins']])"
   ]
  },
  {
   "cell_type": "code",
   "execution_count": 44,
   "id": "d312ad46",
   "metadata": {},
   "outputs": [],
   "source": [
    "def make_perm_hist(diffs, obs_pct, title, placement):\n",
    "    fig, ax = plt.subplots(figsize=(12,6))\n",
    "    ax.hist(pt_diffs, bins=11, rwidth=0.9)\n",
    "    ax.axvline(x=obs_pct_diff, color='black', lw=2)\n",
    "    ax.text(placement[0], placement[1], f'Observed\\nDifference\\n= {round(obs_pct, 2)} percent', bbox={'facecolor': 'white'})\n",
    "    ax.set_xlabel('Conversion rate (percent)')\n",
    "    ax.set_ylabel('Frequency')\n",
    "    ax.set_title(title)\n",
    "    \n",
    "    plt.savefig(f'../images/{title.replace(\" \", \"_\")}.png')\n",
    "    \n",
    "    plt.show();"
   ]
  },
  {
   "cell_type": "code",
   "execution_count": 45,
   "id": "a74ec6d3",
   "metadata": {},
   "outputs": [
    {
     "data": {
      "image/png": "[encoded data removed]",
      "text/plain": [
       "<Figure size 864x432 with 1 Axes>"
      ]
     },
     "metadata": {
      "needs_background": "light"
     },
     "output_type": "display_data"
    }
   ],
   "source": [
    "make_perm_hist(pt_diffs,\n",
    "               obs_pct_diff,\n",
    "               'Frequency of Observed Differences Comparing Bids to Wins',\n",
    "               [5*obs_pct_diff, 175])"
   ]
  },
  {
   "cell_type": "code",
   "execution_count": 46,
   "id": "fc615760",
   "metadata": {},
   "outputs": [
    {
     "data": {
      "text/plain": [
       "0.609"
      ]
     },
     "execution_count": 46,
     "metadata": {},
     "output_type": "execute_result"
    }
   ],
   "source": [
    "np.mean([diff > obs_pct_diff for diff in pt_diffs])"
   ]
  },
  {
   "cell_type": "code",
   "execution_count": 47,
   "id": "3cb987e5",
   "metadata": {},
   "outputs": [],
   "source": [
    "def calc_pVal(df):\n",
    "    survivors = np.array([[df.iloc[0][1], df.iloc[0][0] - df.iloc[0][1]],\n",
    "                         [df.iloc[1][1], df.iloc[1][0] - df.iloc[1][1]]])\n",
    "    chi2, pval, df2, _ = scs.chi2_contingency(survivors)\n",
    "    \n",
    "    return pval"
   ]
  },
  {
   "cell_type": "code",
   "execution_count": 48,
   "id": "030bc62a",
   "metadata": {},
   "outputs": [
    {
     "data": {
      "text/plain": [
       "0.7841564209738942"
      ]
     },
     "execution_count": 48,
     "metadata": {},
     "output_type": "execute_result"
    }
   ],
   "source": [
    "calc_pVal(conv_df[['bids', 'wins']])"
   ]
  },
  {
   "cell_type": "code",
   "execution_count": 49,
   "id": "8e35859e",
   "metadata": {},
   "outputs": [],
   "source": [
    "pt_diffs, obs_pct_diff = get_pt_diffs(conv_df[['wins', 'conversions']])"
   ]
  },
  {
   "cell_type": "code",
   "execution_count": 50,
   "id": "ba05777e",
   "metadata": {},
   "outputs": [
    {
     "data": {
      "image/png": "[encoded data removed]",
      "text/plain": [
       "<Figure size 864x432 with 1 Axes>"
      ]
     },
     "metadata": {
      "needs_background": "light"
     },
     "output_type": "display_data"
    }
   ],
   "source": [
    "make_perm_hist(pt_diffs,\n",
    "               obs_pct_diff,\n",
    "               'Frequency of Observed Differences Comparing Wins to Conversions',\n",
    "               [1.1*obs_pct_diff, 175])"
   ]
  },
  {
   "cell_type": "code",
   "execution_count": 51,
   "id": "10a5c2b5",
   "metadata": {},
   "outputs": [
    {
     "data": {
      "text/plain": [
       "0.073"
      ]
     },
     "execution_count": 51,
     "metadata": {},
     "output_type": "execute_result"
    }
   ],
   "source": [
    "np.mean([diff > obs_pct_diff for diff in pt_diffs])"
   ]
  },
  {
   "cell_type": "code",
   "execution_count": 52,
   "id": "ede575ab",
   "metadata": {},
   "outputs": [
    {
     "data": {
      "text/plain": [
       "0.16690884512421925"
      ]
     },
     "execution_count": 52,
     "metadata": {},
     "output_type": "execute_result"
    }
   ],
   "source": [
    "calc_pVal(conv_df[['wins', 'conversions']])"
   ]
  }
 ],
 "metadata": {
  "kernelspec": {
   "display_name": "Python 3 (ipykernel)",
   "language": "python",
   "name": "python3"
  },
  "language_info": {
   "codemirror_mode": {
    "name": "ipython",
    "version": 3
   },
   "file_extension": ".py",
   "mimetype": "text/x-python",
   "name": "python",
   "nbconvert_exporter": "python",
   "pygments_lexer": "ipython3",
   "version": "3.8.12"
  }
 },
 "nbformat": 4,
 "nbformat_minor": 5
}
