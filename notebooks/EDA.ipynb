{
 "cells": [
  {
   "cell_type": "code",
   "execution_count": 1,
   "id": "dca690f6",
   "metadata": {},
   "outputs": [],
   "source": [
    "import pandas as pd\n",
    "import numpy as np\n",
    "\n",
    "import json"
   ]
  },
  {
   "cell_type": "code",
   "execution_count": 2,
   "id": "cad828cf",
   "metadata": {},
   "outputs": [],
   "source": [
    "bids = pd.read_csv('../data/bid_requests.csv')\n",
    "users = pd.read_csv('../data/user_attributes.csv')"
   ]
  },
  {
   "cell_type": "code",
   "execution_count": 3,
   "id": "dbe58b78",
   "metadata": {},
   "outputs": [
    {
     "data": {
      "text/html": [
       "<div>\n",
       "<style scoped>\n",
       "    .dataframe tbody tr th:only-of-type {\n",
       "        vertical-align: middle;\n",
       "    }\n",
       "\n",
       "    .dataframe tbody tr th {\n",
       "        vertical-align: top;\n",
       "    }\n",
       "\n",
       "    .dataframe thead th {\n",
       "        text-align: right;\n",
       "    }\n",
       "</style>\n",
       "<table border=\"1\" class=\"dataframe\">\n",
       "  <thead>\n",
       "    <tr style=\"text-align: right;\">\n",
       "      <th></th>\n",
       "      <th>timestamp</th>\n",
       "      <th>user_id</th>\n",
       "      <th>bid</th>\n",
       "      <th>win</th>\n",
       "      <th>conversion</th>\n",
       "    </tr>\n",
       "  </thead>\n",
       "  <tbody>\n",
       "    <tr>\n",
       "      <th>0</th>\n",
       "      <td>2017-01-01 00:00:01</td>\n",
       "      <td>be7485be5b6eb3690efcbc9e95e8f15a</td>\n",
       "      <td>0</td>\n",
       "      <td>0</td>\n",
       "      <td>0</td>\n",
       "    </tr>\n",
       "    <tr>\n",
       "      <th>1</th>\n",
       "      <td>2017-01-01 00:00:02</td>\n",
       "      <td>26c5dca2512a4c7fe8810bd04191b1b3</td>\n",
       "      <td>0</td>\n",
       "      <td>0</td>\n",
       "      <td>0</td>\n",
       "    </tr>\n",
       "    <tr>\n",
       "      <th>2</th>\n",
       "      <td>2017-01-01 00:00:05</td>\n",
       "      <td>2121376a323507c01c5e92c39ae8ccd4</td>\n",
       "      <td>0</td>\n",
       "      <td>0</td>\n",
       "      <td>0</td>\n",
       "    </tr>\n",
       "    <tr>\n",
       "      <th>3</th>\n",
       "      <td>2017-01-01 00:00:12</td>\n",
       "      <td>fa6a0925d911185338b0acc93c66dc92</td>\n",
       "      <td>0</td>\n",
       "      <td>0</td>\n",
       "      <td>0</td>\n",
       "    </tr>\n",
       "    <tr>\n",
       "      <th>4</th>\n",
       "      <td>2017-01-01 00:00:13</td>\n",
       "      <td>4299f209da83da82b711f1d631cc607b</td>\n",
       "      <td>1</td>\n",
       "      <td>0</td>\n",
       "      <td>0</td>\n",
       "    </tr>\n",
       "  </tbody>\n",
       "</table>\n",
       "</div>"
      ],
      "text/plain": [
       "             timestamp                           user_id  bid  win  conversion\n",
       "0  2017-01-01 00:00:01  be7485be5b6eb3690efcbc9e95e8f15a    0    0           0\n",
       "1  2017-01-01 00:00:02  26c5dca2512a4c7fe8810bd04191b1b3    0    0           0\n",
       "2  2017-01-01 00:00:05  2121376a323507c01c5e92c39ae8ccd4    0    0           0\n",
       "3  2017-01-01 00:00:12  fa6a0925d911185338b0acc93c66dc92    0    0           0\n",
       "4  2017-01-01 00:00:13  4299f209da83da82b711f1d631cc607b    1    0           0"
      ]
     },
     "execution_count": 3,
     "metadata": {},
     "output_type": "execute_result"
    }
   ],
   "source": [
    "bids.head()"
   ]
  },
  {
   "cell_type": "code",
   "execution_count": 4,
   "id": "5899a104",
   "metadata": {},
   "outputs": [
    {
     "data": {
      "text/html": [
       "<div>\n",
       "<style scoped>\n",
       "    .dataframe tbody tr th:only-of-type {\n",
       "        vertical-align: middle;\n",
       "    }\n",
       "\n",
       "    .dataframe tbody tr th {\n",
       "        vertical-align: top;\n",
       "    }\n",
       "\n",
       "    .dataframe thead th {\n",
       "        text-align: right;\n",
       "    }\n",
       "</style>\n",
       "<table border=\"1\" class=\"dataframe\">\n",
       "  <thead>\n",
       "    <tr style=\"text-align: right;\">\n",
       "      <th></th>\n",
       "      <th>user_id</th>\n",
       "      <th>attributes</th>\n",
       "    </tr>\n",
       "  </thead>\n",
       "  <tbody>\n",
       "    <tr>\n",
       "      <th>0</th>\n",
       "      <td>00003e3b9e5336685200ae85d21b4f5e</td>\n",
       "      <td>{\"age\": 33, \"gender\": \"F\", \"location\": \"FL\", \"...</td>\n",
       "    </tr>\n",
       "    <tr>\n",
       "      <th>1</th>\n",
       "      <td>000053b1e684c9e7ea73727b2238ce18</td>\n",
       "      <td>{\"age\": 26, \"gender\": \"M\", \"location\": \"AL\", \"...</td>\n",
       "    </tr>\n",
       "    <tr>\n",
       "      <th>2</th>\n",
       "      <td>00029153d12ae1c9abe59c17ff2e0895</td>\n",
       "      <td>{\"age\": 29, \"gender\": \"F\", \"location\": \"AR\", \"...</td>\n",
       "    </tr>\n",
       "    <tr>\n",
       "      <th>3</th>\n",
       "      <td>0002ac0d783338cfeab0b2bdbd872cda</td>\n",
       "      <td>{\"age\": 29, \"gender\": \"M\", \"location\": \"SC\", \"...</td>\n",
       "    </tr>\n",
       "    <tr>\n",
       "      <th>4</th>\n",
       "      <td>0004d0b59e19461ff126e3a08a814c33</td>\n",
       "      <td>{\"age\": 27, \"gender\": \"F\", \"location\": \"AR\", \"...</td>\n",
       "    </tr>\n",
       "  </tbody>\n",
       "</table>\n",
       "</div>"
      ],
      "text/plain": [
       "                            user_id  \\\n",
       "0  00003e3b9e5336685200ae85d21b4f5e   \n",
       "1  000053b1e684c9e7ea73727b2238ce18   \n",
       "2  00029153d12ae1c9abe59c17ff2e0895   \n",
       "3  0002ac0d783338cfeab0b2bdbd872cda   \n",
       "4  0004d0b59e19461ff126e3a08a814c33   \n",
       "\n",
       "                                          attributes  \n",
       "0  {\"age\": 33, \"gender\": \"F\", \"location\": \"FL\", \"...  \n",
       "1  {\"age\": 26, \"gender\": \"M\", \"location\": \"AL\", \"...  \n",
       "2  {\"age\": 29, \"gender\": \"F\", \"location\": \"AR\", \"...  \n",
       "3  {\"age\": 29, \"gender\": \"M\", \"location\": \"SC\", \"...  \n",
       "4  {\"age\": 27, \"gender\": \"F\", \"location\": \"AR\", \"...  "
      ]
     },
     "execution_count": 4,
     "metadata": {},
     "output_type": "execute_result"
    }
   ],
   "source": [
    "users.head()"
   ]
  },
  {
   "cell_type": "code",
   "execution_count": 5,
   "id": "69d1c5d8",
   "metadata": {},
   "outputs": [],
   "source": [
    "txt = users.attributes[1]"
   ]
  },
  {
   "cell_type": "code",
   "execution_count": 6,
   "id": "52cd3bb4",
   "metadata": {},
   "outputs": [],
   "source": [
    "dic = json.loads(txt)"
   ]
  },
  {
   "cell_type": "code",
   "execution_count": 7,
   "id": "d28320ce",
   "metadata": {},
   "outputs": [],
   "source": [
    "atts = pd.DataFrame(columns=['age', 'gender', 'location', 'test'])"
   ]
  },
  {
   "cell_type": "markdown",
   "id": "5d5ce149",
   "metadata": {},
   "source": [
    "In the interest of time, I've commented out the next two cells:\n",
    "* the first cell creates a dataframe from the attributes textblob in the users dataframe. That process is extremely slow\n",
    "* in the following cell, I save that attributes dataframe as a csv, so we can just read it in whenever we re-run the notebook\n",
    "\n",
    "Of course, if you have time on your hands, or a GPU, I invite you to uncomment out the next cell and run it at your discretion."
   ]
  },
  {
   "cell_type": "code",
   "execution_count": 8,
   "id": "3795a5eb",
   "metadata": {},
   "outputs": [],
   "source": [
    "# for i in range(len(users.attributes)):\n",
    "#     dic = json.loads(users.attributes[i])\n",
    "    \n",
    "#     for k in dic:\n",
    "#         dic[k] = [dic[k]]\n",
    "        \n",
    "#     df = pd.DataFrame.from_dict(dic)\n",
    "    \n",
    "#     atts = atts.append(df, ignore_index=True)\n",
    "    \n",
    "        "
   ]
  },
  {
   "cell_type": "code",
   "execution_count": 9,
   "id": "42712f51",
   "metadata": {},
   "outputs": [],
   "source": [
    "# atts.to_csv('../data/atts.csv', index=False)"
   ]
  },
  {
   "cell_type": "code",
   "execution_count": 10,
   "id": "57eda569",
   "metadata": {},
   "outputs": [],
   "source": [
    "atts = pd.read_csv('../data/atts.csv')"
   ]
  },
  {
   "cell_type": "code",
   "execution_count": 11,
   "id": "4ede8901",
   "metadata": {},
   "outputs": [
    {
     "name": "stdout",
     "output_type": "stream",
     "text": [
      "<class 'pandas.core.frame.DataFrame'>\n",
      "RangeIndex: 100000 entries, 0 to 99999\n",
      "Data columns (total 4 columns):\n",
      " #   Column    Non-Null Count   Dtype \n",
      "---  ------    --------------   ----- \n",
      " 0   age       100000 non-null  int64 \n",
      " 1   gender    100000 non-null  object\n",
      " 2   location  100000 non-null  object\n",
      " 3   test      100000 non-null  int64 \n",
      "dtypes: int64(2), object(2)\n",
      "memory usage: 3.1+ MB\n"
     ]
    }
   ],
   "source": [
    "atts.info()"
   ]
  },
  {
   "cell_type": "code",
   "execution_count": 16,
   "id": "ca41151b",
   "metadata": {},
   "outputs": [
    {
     "data": {
      "text/plain": [
       "['user_id', 'age', 'gender', 'location', 'test']"
      ]
     },
     "execution_count": 16,
     "metadata": {},
     "output_type": "execute_result"
    }
   ],
   "source": [
    "cols = atts.columns.to_list()\n",
    "cols.insert(0, 'user_id')\n",
    "cols"
   ]
  },
  {
   "cell_type": "code",
   "execution_count": 17,
   "id": "3e19fff8",
   "metadata": {},
   "outputs": [],
   "source": [
    "atts['user_id'] = users['user_id']"
   ]
  },
  {
   "cell_type": "code",
   "execution_count": 18,
   "id": "976c2013",
   "metadata": {},
   "outputs": [],
   "source": [
    "atts = atts[cols]"
   ]
  },
  {
   "cell_type": "code",
   "execution_count": 19,
   "id": "dcae7a94",
   "metadata": {},
   "outputs": [
    {
     "name": "stdout",
     "output_type": "stream",
     "text": [
      "<class 'pandas.core.frame.DataFrame'>\n",
      "RangeIndex: 100000 entries, 0 to 99999\n",
      "Data columns (total 5 columns):\n",
      " #   Column    Non-Null Count   Dtype \n",
      "---  ------    --------------   ----- \n",
      " 0   user_id   100000 non-null  object\n",
      " 1   age       100000 non-null  int64 \n",
      " 2   gender    100000 non-null  object\n",
      " 3   location  100000 non-null  object\n",
      " 4   test      100000 non-null  int64 \n",
      "dtypes: int64(2), object(3)\n",
      "memory usage: 3.8+ MB\n"
     ]
    }
   ],
   "source": [
    "atts.info()"
   ]
  },
  {
   "cell_type": "code",
   "execution_count": 20,
   "id": "cfe90d68",
   "metadata": {},
   "outputs": [
    {
     "data": {
      "text/plain": [
       "True"
      ]
     },
     "execution_count": 20,
     "metadata": {},
     "output_type": "execute_result"
    }
   ],
   "source": [
    "atts.user_id[0] == users.user_id[0]"
   ]
  },
  {
   "cell_type": "code",
   "execution_count": 21,
   "id": "69b8f602",
   "metadata": {},
   "outputs": [
    {
     "data": {
      "text/html": [
       "<div>\n",
       "<style scoped>\n",
       "    .dataframe tbody tr th:only-of-type {\n",
       "        vertical-align: middle;\n",
       "    }\n",
       "\n",
       "    .dataframe tbody tr th {\n",
       "        vertical-align: top;\n",
       "    }\n",
       "\n",
       "    .dataframe thead th {\n",
       "        text-align: right;\n",
       "    }\n",
       "</style>\n",
       "<table border=\"1\" class=\"dataframe\">\n",
       "  <thead>\n",
       "    <tr style=\"text-align: right;\">\n",
       "      <th></th>\n",
       "      <th>user_id</th>\n",
       "      <th>age</th>\n",
       "      <th>gender</th>\n",
       "      <th>location</th>\n",
       "      <th>test</th>\n",
       "    </tr>\n",
       "  </thead>\n",
       "  <tbody>\n",
       "    <tr>\n",
       "      <th>0</th>\n",
       "      <td>00003e3b9e5336685200ae85d21b4f5e</td>\n",
       "      <td>33</td>\n",
       "      <td>F</td>\n",
       "      <td>FL</td>\n",
       "      <td>1</td>\n",
       "    </tr>\n",
       "    <tr>\n",
       "      <th>1</th>\n",
       "      <td>000053b1e684c9e7ea73727b2238ce18</td>\n",
       "      <td>26</td>\n",
       "      <td>M</td>\n",
       "      <td>AL</td>\n",
       "      <td>1</td>\n",
       "    </tr>\n",
       "    <tr>\n",
       "      <th>2</th>\n",
       "      <td>00029153d12ae1c9abe59c17ff2e0895</td>\n",
       "      <td>29</td>\n",
       "      <td>F</td>\n",
       "      <td>AR</td>\n",
       "      <td>1</td>\n",
       "    </tr>\n",
       "    <tr>\n",
       "      <th>3</th>\n",
       "      <td>0002ac0d783338cfeab0b2bdbd872cda</td>\n",
       "      <td>29</td>\n",
       "      <td>M</td>\n",
       "      <td>SC</td>\n",
       "      <td>0</td>\n",
       "    </tr>\n",
       "    <tr>\n",
       "      <th>4</th>\n",
       "      <td>0004d0b59e19461ff126e3a08a814c33</td>\n",
       "      <td>27</td>\n",
       "      <td>F</td>\n",
       "      <td>AR</td>\n",
       "      <td>1</td>\n",
       "    </tr>\n",
       "  </tbody>\n",
       "</table>\n",
       "</div>"
      ],
      "text/plain": [
       "                            user_id  age gender location  test\n",
       "0  00003e3b9e5336685200ae85d21b4f5e   33      F       FL     1\n",
       "1  000053b1e684c9e7ea73727b2238ce18   26      M       AL     1\n",
       "2  00029153d12ae1c9abe59c17ff2e0895   29      F       AR     1\n",
       "3  0002ac0d783338cfeab0b2bdbd872cda   29      M       SC     0\n",
       "4  0004d0b59e19461ff126e3a08a814c33   27      F       AR     1"
      ]
     },
     "execution_count": 21,
     "metadata": {},
     "output_type": "execute_result"
    }
   ],
   "source": [
    "atts.head()"
   ]
  },
  {
   "cell_type": "code",
   "execution_count": 22,
   "id": "fce3436e",
   "metadata": {},
   "outputs": [
    {
     "data": {
      "text/html": [
       "<div>\n",
       "<style scoped>\n",
       "    .dataframe tbody tr th:only-of-type {\n",
       "        vertical-align: middle;\n",
       "    }\n",
       "\n",
       "    .dataframe tbody tr th {\n",
       "        vertical-align: top;\n",
       "    }\n",
       "\n",
       "    .dataframe thead th {\n",
       "        text-align: right;\n",
       "    }\n",
       "</style>\n",
       "<table border=\"1\" class=\"dataframe\">\n",
       "  <thead>\n",
       "    <tr style=\"text-align: right;\">\n",
       "      <th></th>\n",
       "      <th>user_id</th>\n",
       "      <th>attributes</th>\n",
       "    </tr>\n",
       "  </thead>\n",
       "  <tbody>\n",
       "    <tr>\n",
       "      <th>0</th>\n",
       "      <td>00003e3b9e5336685200ae85d21b4f5e</td>\n",
       "      <td>{\"age\": 33, \"gender\": \"F\", \"location\": \"FL\", \"...</td>\n",
       "    </tr>\n",
       "    <tr>\n",
       "      <th>1</th>\n",
       "      <td>000053b1e684c9e7ea73727b2238ce18</td>\n",
       "      <td>{\"age\": 26, \"gender\": \"M\", \"location\": \"AL\", \"...</td>\n",
       "    </tr>\n",
       "    <tr>\n",
       "      <th>2</th>\n",
       "      <td>00029153d12ae1c9abe59c17ff2e0895</td>\n",
       "      <td>{\"age\": 29, \"gender\": \"F\", \"location\": \"AR\", \"...</td>\n",
       "    </tr>\n",
       "    <tr>\n",
       "      <th>3</th>\n",
       "      <td>0002ac0d783338cfeab0b2bdbd872cda</td>\n",
       "      <td>{\"age\": 29, \"gender\": \"M\", \"location\": \"SC\", \"...</td>\n",
       "    </tr>\n",
       "    <tr>\n",
       "      <th>4</th>\n",
       "      <td>0004d0b59e19461ff126e3a08a814c33</td>\n",
       "      <td>{\"age\": 27, \"gender\": \"F\", \"location\": \"AR\", \"...</td>\n",
       "    </tr>\n",
       "  </tbody>\n",
       "</table>\n",
       "</div>"
      ],
      "text/plain": [
       "                            user_id  \\\n",
       "0  00003e3b9e5336685200ae85d21b4f5e   \n",
       "1  000053b1e684c9e7ea73727b2238ce18   \n",
       "2  00029153d12ae1c9abe59c17ff2e0895   \n",
       "3  0002ac0d783338cfeab0b2bdbd872cda   \n",
       "4  0004d0b59e19461ff126e3a08a814c33   \n",
       "\n",
       "                                          attributes  \n",
       "0  {\"age\": 33, \"gender\": \"F\", \"location\": \"FL\", \"...  \n",
       "1  {\"age\": 26, \"gender\": \"M\", \"location\": \"AL\", \"...  \n",
       "2  {\"age\": 29, \"gender\": \"F\", \"location\": \"AR\", \"...  \n",
       "3  {\"age\": 29, \"gender\": \"M\", \"location\": \"SC\", \"...  \n",
       "4  {\"age\": 27, \"gender\": \"F\", \"location\": \"AR\", \"...  "
      ]
     },
     "execution_count": 22,
     "metadata": {},
     "output_type": "execute_result"
    }
   ],
   "source": [
    "users.head()"
   ]
  },
  {
   "cell_type": "code",
   "execution_count": 23,
   "id": "435e5997",
   "metadata": {},
   "outputs": [],
   "source": [
    "control = atts[atts['test']==0]\n",
    "test = atts[atts['test']==1]"
   ]
  },
  {
   "cell_type": "code",
   "execution_count": 24,
   "id": "1c1a0440",
   "metadata": {},
   "outputs": [
    {
     "name": "stdout",
     "output_type": "stream",
     "text": [
      "<class 'pandas.core.frame.DataFrame'>\n",
      "Int64Index: 43916 entries, 3 to 99997\n",
      "Data columns (total 5 columns):\n",
      " #   Column    Non-Null Count  Dtype \n",
      "---  ------    --------------  ----- \n",
      " 0   user_id   43916 non-null  object\n",
      " 1   age       43916 non-null  int64 \n",
      " 2   gender    43916 non-null  object\n",
      " 3   location  43916 non-null  object\n",
      " 4   test      43916 non-null  int64 \n",
      "dtypes: int64(2), object(3)\n",
      "memory usage: 2.0+ MB\n"
     ]
    }
   ],
   "source": [
    "control.info()"
   ]
  },
  {
   "cell_type": "code",
   "execution_count": 25,
   "id": "0f76ca05",
   "metadata": {},
   "outputs": [
    {
     "name": "stdout",
     "output_type": "stream",
     "text": [
      "<class 'pandas.core.frame.DataFrame'>\n",
      "Int64Index: 56084 entries, 0 to 99999\n",
      "Data columns (total 5 columns):\n",
      " #   Column    Non-Null Count  Dtype \n",
      "---  ------    --------------  ----- \n",
      " 0   user_id   56084 non-null  object\n",
      " 1   age       56084 non-null  int64 \n",
      " 2   gender    56084 non-null  object\n",
      " 3   location  56084 non-null  object\n",
      " 4   test      56084 non-null  int64 \n",
      "dtypes: int64(2), object(3)\n",
      "memory usage: 2.6+ MB\n"
     ]
    }
   ],
   "source": [
    "test.info()"
   ]
  },
  {
   "cell_type": "code",
   "execution_count": null,
   "id": "b12454b0",
   "metadata": {},
   "outputs": [],
   "source": []
  }
 ],
 "metadata": {
  "kernelspec": {
   "display_name": "Python 3 (ipykernel)",
   "language": "python",
   "name": "python3"
  },
  "language_info": {
   "codemirror_mode": {
    "name": "ipython",
    "version": 3
   },
   "file_extension": ".py",
   "mimetype": "text/x-python",
   "name": "python",
   "nbconvert_exporter": "python",
   "pygments_lexer": "ipython3",
   "version": "3.8.12"
  }
 },
 "nbformat": 4,
 "nbformat_minor": 5
}
